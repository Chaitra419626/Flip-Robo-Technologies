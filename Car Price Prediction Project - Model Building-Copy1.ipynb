{
 "cells": [
  {
   "cell_type": "code",
   "execution_count": 5,
   "metadata": {},
   "outputs": [],
   "source": [
    "import pandas as pd\n",
    "import numpy as np\n",
    "import datetime\n",
    "import seaborn as sns\n",
    "import matplotlib.pyplot as plt\n",
    "%matplotlib inline\n",
    "import warnings\n",
    "warnings.filterwarnings('ignore')"
   ]
  },
  {
   "cell_type": "code",
   "execution_count": 6,
   "metadata": {},
   "outputs": [],
   "source": [
    "df = pd.read_csv(\"car_data.csv\", index_col = 'Unnamed: 0') # Importing the data\n",
    "pd.set_option('display.max_columns', 500)"
   ]
  },
  {
   "cell_type": "code",
   "execution_count": 7,
   "metadata": {},
   "outputs": [
    {
     "data": {
      "text/html": [
       "<div>\n",
       "<style scoped>\n",
       "    .dataframe tbody tr th:only-of-type {\n",
       "        vertical-align: middle;\n",
       "    }\n",
       "\n",
       "    .dataframe tbody tr th {\n",
       "        vertical-align: top;\n",
       "    }\n",
       "\n",
       "    .dataframe thead th {\n",
       "        text-align: right;\n",
       "    }\n",
       "</style>\n",
       "<table border=\"1\" class=\"dataframe\">\n",
       "  <thead>\n",
       "    <tr style=\"text-align: right;\">\n",
       "      <th></th>\n",
       "      <th>Name</th>\n",
       "      <th>Transmission type</th>\n",
       "      <th>Variant</th>\n",
       "      <th>Mileage</th>\n",
       "      <th>Owned</th>\n",
       "      <th>Fuel type</th>\n",
       "      <th>City</th>\n",
       "      <th>Price</th>\n",
       "    </tr>\n",
       "  </thead>\n",
       "  <tbody>\n",
       "    <tr>\n",
       "      <th>0</th>\n",
       "      <td>2015 Toyota Etios</td>\n",
       "      <td>Manual</td>\n",
       "      <td>CROSS 1.4 GD Manual</td>\n",
       "      <td>80,605 km</td>\n",
       "      <td>1st Owner</td>\n",
       "      <td>Diesel</td>\n",
       "      <td>Rohtak</td>\n",
       "      <td>₹4,01,599</td>\n",
       "    </tr>\n",
       "    <tr>\n",
       "      <th>1</th>\n",
       "      <td>2013 Honda Amaze</td>\n",
       "      <td>Manual</td>\n",
       "      <td>1.5 SMT I DTEC Manual</td>\n",
       "      <td>82,877 km</td>\n",
       "      <td>3rd Owner</td>\n",
       "      <td>Diesel</td>\n",
       "      <td>Rohtak</td>\n",
       "      <td>₹2,81,899</td>\n",
       "    </tr>\n",
       "    <tr>\n",
       "      <th>2</th>\n",
       "      <td>2017 Maruti Swift</td>\n",
       "      <td>Manual</td>\n",
       "      <td>VXI Manual</td>\n",
       "      <td>46,758 km</td>\n",
       "      <td>1st Owner</td>\n",
       "      <td>Petrol</td>\n",
       "      <td>Rohtak</td>\n",
       "      <td>₹4,78,599</td>\n",
       "    </tr>\n",
       "    <tr>\n",
       "      <th>3</th>\n",
       "      <td>2017 Skoda Rapid</td>\n",
       "      <td>Automatic</td>\n",
       "      <td>1.5 TDI AT STYLE PLUS Automatic</td>\n",
       "      <td>1,38,467 km</td>\n",
       "      <td>1st Owner</td>\n",
       "      <td>Diesel</td>\n",
       "      <td>Rohtak</td>\n",
       "      <td>₹6,10,599</td>\n",
       "    </tr>\n",
       "    <tr>\n",
       "      <th>4</th>\n",
       "      <td>2018 Maruti Baleno</td>\n",
       "      <td>Manual</td>\n",
       "      <td>ZETA 1.2 K12 Manual</td>\n",
       "      <td>9,483 km</td>\n",
       "      <td>2nd Owner</td>\n",
       "      <td>Petrol</td>\n",
       "      <td>Rohtak</td>\n",
       "      <td>₹6,15,199</td>\n",
       "    </tr>\n",
       "  </tbody>\n",
       "</table>\n",
       "</div>"
      ],
      "text/plain": [
       "                 Name Transmission type                          Variant  \\\n",
       "0   2015 Toyota Etios            Manual              CROSS 1.4 GD Manual   \n",
       "1    2013 Honda Amaze            Manual            1.5 SMT I DTEC Manual   \n",
       "2   2017 Maruti Swift            Manual                       VXI Manual   \n",
       "3    2017 Skoda Rapid         Automatic  1.5 TDI AT STYLE PLUS Automatic   \n",
       "4  2018 Maruti Baleno            Manual              ZETA 1.2 K12 Manual   \n",
       "\n",
       "       Mileage      Owned Fuel type    City      Price  \n",
       "0    80,605 km  1st Owner    Diesel  Rohtak  ₹4,01,599  \n",
       "1    82,877 km  3rd Owner    Diesel  Rohtak  ₹2,81,899  \n",
       "2    46,758 km  1st Owner    Petrol  Rohtak  ₹4,78,599  \n",
       "3  1,38,467 km  1st Owner    Diesel  Rohtak  ₹6,10,599  \n",
       "4     9,483 km  2nd Owner    Petrol  Rohtak  ₹6,15,199  "
      ]
     },
     "execution_count": 7,
     "metadata": {},
     "output_type": "execute_result"
    }
   ],
   "source": [
    "df.head() # Probing the data"
   ]
  },
  {
   "cell_type": "code",
   "execution_count": 8,
   "metadata": {},
   "outputs": [],
   "source": [
    "df.replace(',','', regex=True, inplace=True) # Replacing the transmission type from name as we already have it\n",
    "df['Variant'] = df['Variant'].str.replace('Manual', '')\n",
    "df['Variant'] = df['Variant'].str.replace('Automatic', '')"
   ]
  },
  {
   "cell_type": "code",
   "execution_count": 9,
   "metadata": {},
   "outputs": [
    {
     "data": {
      "text/html": [
       "<div>\n",
       "<style scoped>\n",
       "    .dataframe tbody tr th:only-of-type {\n",
       "        vertical-align: middle;\n",
       "    }\n",
       "\n",
       "    .dataframe tbody tr th {\n",
       "        vertical-align: top;\n",
       "    }\n",
       "\n",
       "    .dataframe thead th {\n",
       "        text-align: right;\n",
       "    }\n",
       "</style>\n",
       "<table border=\"1\" class=\"dataframe\">\n",
       "  <thead>\n",
       "    <tr style=\"text-align: right;\">\n",
       "      <th></th>\n",
       "      <th>Name</th>\n",
       "      <th>Transmission type</th>\n",
       "      <th>Variant</th>\n",
       "      <th>Mileage</th>\n",
       "      <th>Owned</th>\n",
       "      <th>Fuel type</th>\n",
       "      <th>City</th>\n",
       "      <th>Price</th>\n",
       "    </tr>\n",
       "  </thead>\n",
       "  <tbody>\n",
       "    <tr>\n",
       "      <th>3995</th>\n",
       "      <td>2014 Hyundai Xcent</td>\n",
       "      <td>Manual</td>\n",
       "      <td>K8 6 STR</td>\n",
       "      <td>18957 km</td>\n",
       "      <td>2nd Owner</td>\n",
       "      <td>Petrol</td>\n",
       "      <td>Mysore</td>\n",
       "      <td>₹319399</td>\n",
       "    </tr>\n",
       "    <tr>\n",
       "      <th>3996</th>\n",
       "      <td>2018 Maruti Swift</td>\n",
       "      <td>Manual</td>\n",
       "      <td>XZ+ 1.2</td>\n",
       "      <td>40061 km</td>\n",
       "      <td>2nd Owner</td>\n",
       "      <td>Petrol</td>\n",
       "      <td>Mysore</td>\n",
       "      <td>₹468099</td>\n",
       "    </tr>\n",
       "    <tr>\n",
       "      <th>3997</th>\n",
       "      <td>2015 Honda City</td>\n",
       "      <td>Manual</td>\n",
       "      <td>1.2 TREND</td>\n",
       "      <td>15680 km</td>\n",
       "      <td>1st Owner</td>\n",
       "      <td>Petrol</td>\n",
       "      <td>Mysore</td>\n",
       "      <td>₹502799</td>\n",
       "    </tr>\n",
       "    <tr>\n",
       "      <th>3998</th>\n",
       "      <td>2019 KIA SELTOS</td>\n",
       "      <td>Automatic</td>\n",
       "      <td>K8 6 STR</td>\n",
       "      <td>116043 km</td>\n",
       "      <td>1st Owner</td>\n",
       "      <td>Petrol</td>\n",
       "      <td>Mysore</td>\n",
       "      <td>₹541799</td>\n",
       "    </tr>\n",
       "    <tr>\n",
       "      <th>3999</th>\n",
       "      <td>2017 Volkswagen Polo</td>\n",
       "      <td>Automatic</td>\n",
       "      <td>VDI AMT</td>\n",
       "      <td>66079 km</td>\n",
       "      <td>1st Owner</td>\n",
       "      <td>Petrol</td>\n",
       "      <td>Mysore</td>\n",
       "      <td>₹547399</td>\n",
       "    </tr>\n",
       "  </tbody>\n",
       "</table>\n",
       "</div>"
      ],
      "text/plain": [
       "                      Name Transmission type     Variant    Mileage  \\\n",
       "3995    2014 Hyundai Xcent            Manual   K8 6 STR    18957 km   \n",
       "3996     2018 Maruti Swift            Manual    XZ+ 1.2    40061 km   \n",
       "3997       2015 Honda City            Manual  1.2 TREND    15680 km   \n",
       "3998       2019 KIA SELTOS         Automatic   K8 6 STR   116043 km   \n",
       "3999  2017 Volkswagen Polo         Automatic    VDI AMT    66079 km   \n",
       "\n",
       "          Owned Fuel type    City    Price  \n",
       "3995  2nd Owner    Petrol  Mysore  ₹319399  \n",
       "3996  2nd Owner    Petrol  Mysore  ₹468099  \n",
       "3997  1st Owner    Petrol  Mysore  ₹502799  \n",
       "3998  1st Owner    Petrol  Mysore  ₹541799  \n",
       "3999  1st Owner    Petrol  Mysore  ₹547399  "
      ]
     },
     "execution_count": 9,
     "metadata": {},
     "output_type": "execute_result"
    }
   ],
   "source": [
    "df.tail()"
   ]
  },
  {
   "cell_type": "code",
   "execution_count": 10,
   "metadata": {},
   "outputs": [
    {
     "data": {
      "text/plain": [
       "(4000, 8)"
      ]
     },
     "execution_count": 10,
     "metadata": {},
     "output_type": "execute_result"
    }
   ],
   "source": [
    "df.shape # We have 5339 rows and 8 coulmns"
   ]
  },
  {
   "cell_type": "code",
   "execution_count": 11,
   "metadata": {},
   "outputs": [
    {
     "name": "stdout",
     "output_type": "stream",
     "text": [
      "<class 'pandas.core.frame.DataFrame'>\n",
      "Int64Index: 4000 entries, 0 to 3999\n",
      "Data columns (total 8 columns):\n",
      " #   Column             Non-Null Count  Dtype \n",
      "---  ------             --------------  ----- \n",
      " 0   Name               4000 non-null   object\n",
      " 1   Transmission type  3899 non-null   object\n",
      " 2   Variant            4000 non-null   object\n",
      " 3   Mileage            4000 non-null   object\n",
      " 4   Owned              4000 non-null   object\n",
      " 5   Fuel type          4000 non-null   object\n",
      " 6   City               4000 non-null   object\n",
      " 7   Price              4000 non-null   object\n",
      "dtypes: object(8)\n",
      "memory usage: 281.2+ KB\n"
     ]
    }
   ],
   "source": [
    "df.info() # Basic info about data types, we will need to convert some of them to integer"
   ]
  },
  {
   "cell_type": "code",
   "execution_count": 12,
   "metadata": {},
   "outputs": [
    {
     "data": {
      "text/plain": [
       "Name                  410\n",
       "Transmission type       2\n",
       "Variant               517\n",
       "Mileage              2385\n",
       "Owned                   5\n",
       "Fuel type               4\n",
       "City                   19\n",
       "Price                2064\n",
       "dtype: int64"
      ]
     },
     "execution_count": 12,
     "metadata": {},
     "output_type": "execute_result"
    }
   ],
   "source": [
    "df.nunique() # Unique values in each column"
   ]
  },
  {
   "cell_type": "code",
   "execution_count": 13,
   "metadata": {},
   "outputs": [
    {
     "data": {
      "text/plain": [
       "Name                   0\n",
       "Transmission type    101\n",
       "Variant                0\n",
       "Mileage                0\n",
       "Owned                  0\n",
       "Fuel type              0\n",
       "City                   0\n",
       "Price                  0\n",
       "dtype: int64"
      ]
     },
     "execution_count": 13,
     "metadata": {},
     "output_type": "execute_result"
    }
   ],
   "source": [
    "df.isnull().sum() # Some value in transmission type are missing"
   ]
  },
  {
   "cell_type": "code",
   "execution_count": 14,
   "metadata": {},
   "outputs": [
    {
     "data": {
      "text/plain": [
       "<AxesSubplot:>"
      ]
     },
     "execution_count": 14,
     "metadata": {},
     "output_type": "execute_result"
    },
    {
     "data": {
      "image/png": "[encoded data removed]",
      "text/plain": [
       "<Figure size 432x288 with 1 Axes>"
      ]
     },
     "metadata": {
      "needs_background": "light"
     },
     "output_type": "display_data"
    }
   ],
   "source": [
    "df['Transmission type'].value_counts().plot.bar() "
   ]
  },
  {
   "cell_type": "markdown",
   "metadata": {},
   "source": [
    "Most of the cars are Manual transmission."
   ]
  },
  {
   "cell_type": "code",
   "execution_count": 15,
   "metadata": {},
   "outputs": [],
   "source": [
    "df['Year'] = df.Name.str[:4] # Extracting year from name, and storing it as integer\n",
    "df['Year'] = df['Year'].astype(int)"
   ]
  },
  {
   "cell_type": "code",
   "execution_count": 16,
   "metadata": {},
   "outputs": [],
   "source": [
    "df.Name = df.Name.str[4:] # Slicing the name so that it doesn't contain the year"
   ]
  },
  {
   "cell_type": "code",
   "execution_count": 17,
   "metadata": {},
   "outputs": [],
   "source": [
    "df.Mileage = df.Mileage.str[:-3] # Removing ' km' form end of Mileage and converting it to integer\n",
    "df['Mileage'] = df['Mileage'].astype(int)"
   ]
  },
  {
   "cell_type": "code",
   "execution_count": 18,
   "metadata": {},
   "outputs": [],
   "source": [
    "df.Price = df.Price.str[1:] # Removing the rupee symbol '₹' from price, and changing type to integer\n",
    "df ['Price'] = df['Price'].astype(int)"
   ]
  },
  {
   "cell_type": "code",
   "execution_count": 19,
   "metadata": {},
   "outputs": [],
   "source": [
    "df['Manufacturer'] = df['Name'].str.split(' ').str[1] # Removing white space, and separating Manufacturer name form car name\n",
    "df['Model'] = df['Name'].str.split(' ').str[2]"
   ]
  },
  {
   "cell_type": "code",
   "execution_count": 20,
   "metadata": {},
   "outputs": [
    {
     "data": {
      "text/html": [
       "<div>\n",
       "<style scoped>\n",
       "    .dataframe tbody tr th:only-of-type {\n",
       "        vertical-align: middle;\n",
       "    }\n",
       "\n",
       "    .dataframe tbody tr th {\n",
       "        vertical-align: top;\n",
       "    }\n",
       "\n",
       "    .dataframe thead th {\n",
       "        text-align: right;\n",
       "    }\n",
       "</style>\n",
       "<table border=\"1\" class=\"dataframe\">\n",
       "  <thead>\n",
       "    <tr style=\"text-align: right;\">\n",
       "      <th></th>\n",
       "      <th>Name</th>\n",
       "      <th>Transmission type</th>\n",
       "      <th>Variant</th>\n",
       "      <th>Mileage</th>\n",
       "      <th>Owned</th>\n",
       "      <th>Fuel type</th>\n",
       "      <th>City</th>\n",
       "      <th>Price</th>\n",
       "      <th>Year</th>\n",
       "      <th>Manufacturer</th>\n",
       "      <th>Model</th>\n",
       "    </tr>\n",
       "  </thead>\n",
       "  <tbody>\n",
       "    <tr>\n",
       "      <th>0</th>\n",
       "      <td>Toyota Etios</td>\n",
       "      <td>Manual</td>\n",
       "      <td>CROSS 1.4 GD</td>\n",
       "      <td>80605</td>\n",
       "      <td>1st Owner</td>\n",
       "      <td>Diesel</td>\n",
       "      <td>Rohtak</td>\n",
       "      <td>401599</td>\n",
       "      <td>2015</td>\n",
       "      <td>Toyota</td>\n",
       "      <td>Etios</td>\n",
       "    </tr>\n",
       "    <tr>\n",
       "      <th>1</th>\n",
       "      <td>Honda Amaze</td>\n",
       "      <td>Manual</td>\n",
       "      <td>1.5 SMT I DTEC</td>\n",
       "      <td>82877</td>\n",
       "      <td>3rd Owner</td>\n",
       "      <td>Diesel</td>\n",
       "      <td>Rohtak</td>\n",
       "      <td>281899</td>\n",
       "      <td>2013</td>\n",
       "      <td>Honda</td>\n",
       "      <td>Amaze</td>\n",
       "    </tr>\n",
       "    <tr>\n",
       "      <th>2</th>\n",
       "      <td>Maruti Swift</td>\n",
       "      <td>Manual</td>\n",
       "      <td>VXI</td>\n",
       "      <td>46758</td>\n",
       "      <td>1st Owner</td>\n",
       "      <td>Petrol</td>\n",
       "      <td>Rohtak</td>\n",
       "      <td>478599</td>\n",
       "      <td>2017</td>\n",
       "      <td>Maruti</td>\n",
       "      <td>Swift</td>\n",
       "    </tr>\n",
       "    <tr>\n",
       "      <th>3</th>\n",
       "      <td>Skoda Rapid</td>\n",
       "      <td>Automatic</td>\n",
       "      <td>1.5 TDI AT STYLE PLUS</td>\n",
       "      <td>138467</td>\n",
       "      <td>1st Owner</td>\n",
       "      <td>Diesel</td>\n",
       "      <td>Rohtak</td>\n",
       "      <td>610599</td>\n",
       "      <td>2017</td>\n",
       "      <td>Skoda</td>\n",
       "      <td>Rapid</td>\n",
       "    </tr>\n",
       "    <tr>\n",
       "      <th>4</th>\n",
       "      <td>Maruti Baleno</td>\n",
       "      <td>Manual</td>\n",
       "      <td>ZETA 1.2 K12</td>\n",
       "      <td>9483</td>\n",
       "      <td>2nd Owner</td>\n",
       "      <td>Petrol</td>\n",
       "      <td>Rohtak</td>\n",
       "      <td>615199</td>\n",
       "      <td>2018</td>\n",
       "      <td>Maruti</td>\n",
       "      <td>Baleno</td>\n",
       "    </tr>\n",
       "  </tbody>\n",
       "</table>\n",
       "</div>"
      ],
      "text/plain": [
       "             Name Transmission type                 Variant  Mileage  \\\n",
       "0    Toyota Etios            Manual           CROSS 1.4 GD     80605   \n",
       "1     Honda Amaze            Manual         1.5 SMT I DTEC     82877   \n",
       "2    Maruti Swift            Manual                    VXI     46758   \n",
       "3     Skoda Rapid         Automatic  1.5 TDI AT STYLE PLUS    138467   \n",
       "4   Maruti Baleno            Manual           ZETA 1.2 K12      9483   \n",
       "\n",
       "       Owned Fuel type    City   Price  Year Manufacturer   Model  \n",
       "0  1st Owner    Diesel  Rohtak  401599  2015       Toyota   Etios  \n",
       "1  3rd Owner    Diesel  Rohtak  281899  2013        Honda   Amaze  \n",
       "2  1st Owner    Petrol  Rohtak  478599  2017       Maruti   Swift  \n",
       "3  1st Owner    Diesel  Rohtak  610599  2017        Skoda   Rapid  \n",
       "4  2nd Owner    Petrol  Rohtak  615199  2018       Maruti  Baleno  "
      ]
     },
     "execution_count": 20,
     "metadata": {},
     "output_type": "execute_result"
    }
   ],
   "source": [
    "#Checking if all the above operations worked fine\n",
    "df.head() "
   ]
  },
  {
   "cell_type": "code",
   "execution_count": 21,
   "metadata": {},
   "outputs": [
    {
     "data": {
      "text/plain": [
       "Manual       3506\n",
       "Automatic     393\n",
       "Name: Transmission type, dtype: int64"
      ]
     },
     "execution_count": 21,
     "metadata": {},
     "output_type": "execute_result"
    }
   ],
   "source": [
    "df['Transmission type'].value_counts() # Value counts of transmission"
   ]
  },
  {
   "cell_type": "code",
   "execution_count": 22,
   "metadata": {},
   "outputs": [
    {
     "data": {
      "text/plain": [
       "1st Owner    3318\n",
       "2nd Owner     588\n",
       "3rd Owner      90\n",
       "5th Owner       3\n",
       "4th Owner       1\n",
       "Name: Owned, dtype: int64"
      ]
     },
     "execution_count": 22,
     "metadata": {},
     "output_type": "execute_result"
    }
   ],
   "source": [
    "df['Owned'].value_counts() # Value counts of Owned"
   ]
  },
  {
   "cell_type": "code",
   "execution_count": 23,
   "metadata": {},
   "outputs": [
    {
     "data": {
      "text/plain": [
       "Petrol          2812\n",
       "Diesel          1144\n",
       "Petrol + CNG      42\n",
       "Petrol + LPG       2\n",
       "Name: Fuel type, dtype: int64"
      ]
     },
     "execution_count": 23,
     "metadata": {},
     "output_type": "execute_result"
    }
   ],
   "source": [
    "df['Fuel type'].value_counts() # Value counts of Fuel type"
   ]
  },
  {
   "cell_type": "code",
   "execution_count": 24,
   "metadata": {},
   "outputs": [
    {
     "data": {
      "text/plain": [
       "Ahmedabad     310\n",
       "Pune          300\n",
       "Surat         280\n",
       "Chennai       273\n",
       "Rohtak        272\n",
       "Bengaluru     260\n",
       "Meerut        257\n",
       "Rajkot        248\n",
       "Kolkata       218\n",
       "Jaipur        217\n",
       "Mysore        210\n",
       "Panipat       200\n",
       "Mumbai        200\n",
       "Ludhiana      180\n",
       "Chandigarh    180\n",
       "Delhi         180\n",
       "Nasik         100\n",
       "Hyderabad      88\n",
       "Bhopal         27\n",
       "Name: City, dtype: int64"
      ]
     },
     "execution_count": 24,
     "metadata": {},
     "output_type": "execute_result"
    }
   ],
   "source": [
    "df['City'].value_counts() # Value counts of City"
   ]
  },
  {
   "cell_type": "code",
   "execution_count": 25,
   "metadata": {},
   "outputs": [
    {
     "data": {
      "text/html": [
       "<div>\n",
       "<style scoped>\n",
       "    .dataframe tbody tr th:only-of-type {\n",
       "        vertical-align: middle;\n",
       "    }\n",
       "\n",
       "    .dataframe tbody tr th {\n",
       "        vertical-align: top;\n",
       "    }\n",
       "\n",
       "    .dataframe thead th {\n",
       "        text-align: right;\n",
       "    }\n",
       "</style>\n",
       "<table border=\"1\" class=\"dataframe\">\n",
       "  <thead>\n",
       "    <tr style=\"text-align: right;\">\n",
       "      <th></th>\n",
       "      <th>Mileage</th>\n",
       "      <th>Price</th>\n",
       "      <th>Year</th>\n",
       "    </tr>\n",
       "  </thead>\n",
       "  <tbody>\n",
       "    <tr>\n",
       "      <th>count</th>\n",
       "      <td>4.000000e+03</td>\n",
       "      <td>4.000000e+03</td>\n",
       "      <td>4000.00000</td>\n",
       "    </tr>\n",
       "    <tr>\n",
       "      <th>mean</th>\n",
       "      <td>4.587842e+04</td>\n",
       "      <td>5.695933e+05</td>\n",
       "      <td>2016.60025</td>\n",
       "    </tr>\n",
       "    <tr>\n",
       "      <th>std</th>\n",
       "      <td>4.166431e+04</td>\n",
       "      <td>2.874513e+05</td>\n",
       "      <td>2.43124</td>\n",
       "    </tr>\n",
       "    <tr>\n",
       "      <th>min</th>\n",
       "      <td>3.500000e+02</td>\n",
       "      <td>1.263990e+05</td>\n",
       "      <td>2008.00000</td>\n",
       "    </tr>\n",
       "    <tr>\n",
       "      <th>25%</th>\n",
       "      <td>1.834600e+04</td>\n",
       "      <td>3.837490e+05</td>\n",
       "      <td>2015.00000</td>\n",
       "    </tr>\n",
       "    <tr>\n",
       "      <th>50%</th>\n",
       "      <td>3.600200e+04</td>\n",
       "      <td>4.987990e+05</td>\n",
       "      <td>2017.00000</td>\n",
       "    </tr>\n",
       "    <tr>\n",
       "      <th>75%</th>\n",
       "      <td>6.368475e+04</td>\n",
       "      <td>6.670240e+05</td>\n",
       "      <td>2018.00000</td>\n",
       "    </tr>\n",
       "    <tr>\n",
       "      <th>max</th>\n",
       "      <td>1.002408e+06</td>\n",
       "      <td>2.938999e+06</td>\n",
       "      <td>2021.00000</td>\n",
       "    </tr>\n",
       "  </tbody>\n",
       "</table>\n",
       "</div>"
      ],
      "text/plain": [
       "            Mileage         Price        Year\n",
       "count  4.000000e+03  4.000000e+03  4000.00000\n",
       "mean   4.587842e+04  5.695933e+05  2016.60025\n",
       "std    4.166431e+04  2.874513e+05     2.43124\n",
       "min    3.500000e+02  1.263990e+05  2008.00000\n",
       "25%    1.834600e+04  3.837490e+05  2015.00000\n",
       "50%    3.600200e+04  4.987990e+05  2017.00000\n",
       "75%    6.368475e+04  6.670240e+05  2018.00000\n",
       "max    1.002408e+06  2.938999e+06  2021.00000"
      ]
     },
     "execution_count": 25,
     "metadata": {},
     "output_type": "execute_result"
    }
   ],
   "source": [
    "df.describe() # Cheking some basic stats about our data"
   ]
  },
  {
   "cell_type": "markdown",
   "metadata": {},
   "source": [
    "Minimum Mileage 350 km;\n",
    "Maximum Mileage 1,000,000 km\n",
    "\n",
    "Oldest car: 2008;\n",
    "Newest car: 2021\n",
    "\n",
    "Minimum price: Rs. 126,000;\n",
    "Maximum price of car: Rs. 29,380,000"
   ]
  },
  {
   "cell_type": "markdown",
   "metadata": {},
   "source": [
    "#### EDA"
   ]
  },
  {
   "cell_type": "code",
   "execution_count": 26,
   "metadata": {},
   "outputs": [
    {
     "data": {
      "image/png": "[encoded data removed]",
      "text/plain": [
       "<Figure size 1440x720 with 1 Axes>"
      ]
     },
     "metadata": {
      "needs_background": "light"
     },
     "output_type": "display_data"
    }
   ],
   "source": [
    "# Looking at distribution of selling price of car, which is our target variable.\n",
    "# We can observe that the distribution is right skewed\n",
    "\n",
    "df['Price'].hist(bins=100,figsize=(20,10),rwidth = 0.75)\n",
    "plt.ticklabel_format(style='plain', axis='x')\n",
    "plt.title('Car Prices')\n",
    "plt.show()"
   ]
  },
  {
   "cell_type": "code",
   "execution_count": 27,
   "metadata": {},
   "outputs": [
    {
     "data": {
      "text/plain": [
       "<AxesSubplot:xlabel='Mileage', ylabel='Count'>"
      ]
     },
     "execution_count": 27,
     "metadata": {},
     "output_type": "execute_result"
    },
    {
     "data": {
      "image/png": "[encoded data removed]",
      "text/plain": [
       "<Figure size 432x288 with 1 Axes>"
      ]
     },
     "metadata": {
      "needs_background": "light"
     },
     "output_type": "display_data"
    }
   ],
   "source": [
    "sns.histplot(df['Mileage'],bins = 100 , kde = True, color = 'green') # Most of the mileage of cars is less that 200,000 km"
   ]
  },
  {
   "cell_type": "code",
   "execution_count": 28,
   "metadata": {},
   "outputs": [
    {
     "data": {
      "text/plain": [
       "<AxesSubplot:xlabel='Year', ylabel='Count'>"
      ]
     },
     "execution_count": 28,
     "metadata": {},
     "output_type": "execute_result"
    },
    {
     "data": {
      "image/png": "[encoded data removed]",
      "text/plain": [
       "<Figure size 432x288 with 1 Axes>"
      ]
     },
     "metadata": {
      "needs_background": "light"
     },
     "output_type": "display_data"
    }
   ],
   "source": [
    "sns.histplot(df['Year'],bins = 100 , kde = True, color = 'green') # Most of the flight prices range from 2000-20000"
   ]
  },
  {
   "cell_type": "markdown",
   "metadata": {},
   "source": [
    "We can see that most of the cars in this data were bought between 2015 and 2020"
   ]
  },
  {
   "cell_type": "code",
   "execution_count": 29,
   "metadata": {},
   "outputs": [
    {
     "data": {
      "image/png": "[encoded data removed]",
      "text/plain": [
       "<Figure size 864x576 with 1 Axes>"
      ]
     },
     "metadata": {
      "needs_background": "light"
     },
     "output_type": "display_data"
    }
   ],
   "source": [
    "df_2 = df.groupby('Year').mean()\n",
    "df_2.reset_index(inplace=True)\n",
    "fig, ax = plt.subplots(figsize=(12, 8))\n",
    "sns.barplot(x='Year', y='Price', data=df_2,ax=ax);"
   ]
  },
  {
   "cell_type": "markdown",
   "metadata": {},
   "source": [
    "Average price of car vs year; we can see the average price of car increases if the car is not very old."
   ]
  },
  {
   "cell_type": "code",
   "execution_count": 30,
   "metadata": {},
   "outputs": [
    {
     "data": {
      "image/png": "[encoded data removed]",
      "text/plain": [
       "<Figure size 864x576 with 1 Axes>"
      ]
     },
     "metadata": {
      "needs_background": "light"
     },
     "output_type": "display_data"
    }
   ],
   "source": [
    "df_2 = df.groupby('Year').mean()\n",
    "df_2.reset_index(inplace=True)\n",
    "fig, ax = plt.subplots(figsize=(12, 8))\n",
    "sns.barplot(x='Year', y='Mileage', data=df_2,ax=ax);"
   ]
  },
  {
   "cell_type": "markdown",
   "metadata": {},
   "source": [
    "Average mileage in km on a car, based on the year the car was manufactured; we can observe that the mileage is more for older cars; as expected."
   ]
  },
  {
   "cell_type": "code",
   "execution_count": 31,
   "metadata": {},
   "outputs": [
    {
     "data": {
      "image/png": "[encoded data removed]",
      "text/plain": [
       "<Figure size 576x864 with 1 Axes>"
      ]
     },
     "metadata": {
      "needs_background": "light"
     },
     "output_type": "display_data"
    }
   ],
   "source": [
    "f,ax1 = plt.subplots(figsize = (8,12))\n",
    "sns.pointplot(y = df.City, x = df['Price'], join=True, data= df )\n",
    "plt.xticks(rotation = 90)\n",
    "plt.title(\"Cost of car per city\",{'fontsize':20})\n",
    "plt.xlabel('Average price in INR',{'fontsize' : 'large'})\n",
    "plt.ylabel('City name',{'fontsize':'large'})\n",
    "plt.show()"
   ]
  },
  {
   "cell_type": "markdown",
   "metadata": {},
   "source": [
    "Average price of car according to city in which it was listed. Bhopal has the most expensive cars and Kochi has the least expensive cars."
   ]
  },
  {
   "cell_type": "code",
   "execution_count": 32,
   "metadata": {},
   "outputs": [
    {
     "data": {
      "image/png": "[encoded data removed]",
      "text/plain": [
       "<Figure size 576x864 with 1 Axes>"
      ]
     },
     "metadata": {
      "needs_background": "light"
     },
     "output_type": "display_data"
    }
   ],
   "source": [
    "f,ax1 = plt.subplots(figsize = (8,12))\n",
    "sns.pointplot(y = df.City, x = df['Mileage'], join=True, data= df )\n",
    "plt.xticks(rotation = 90)\n",
    "plt.title(\"Mileage per city\",{'fontsize':20})\n",
    "plt.xlabel('Average mileage in km',{'fontsize' : 'large'})\n",
    "plt.ylabel('City name',{'fontsize':'large'})\n",
    "plt.show()"
   ]
  },
  {
   "cell_type": "markdown",
   "metadata": {},
   "source": [
    "Average mileage of car (in km) according to city in which it was listed. Ludhiiana has the most driven cars and Mysore has the least driven cars."
   ]
  },
  {
   "cell_type": "markdown",
   "metadata": {},
   "source": [
    "Checking the data for some cars"
   ]
  },
  {
   "cell_type": "code",
   "execution_count": 33,
   "metadata": {},
   "outputs": [
    {
     "data": {
      "text/plain": [
       "Mileage    1249\n",
       "dtype: int64"
      ]
     },
     "execution_count": 33,
     "metadata": {},
     "output_type": "execute_result"
    }
   ],
   "source": [
    "df[['Mileage']].idxmax() # Which df index has maximum mileage"
   ]
  },
  {
   "cell_type": "code",
   "execution_count": 34,
   "metadata": {},
   "outputs": [
    {
     "data": {
      "text/plain": [
       "Name                  Maruti Swift\n",
       "Transmission type           Manual\n",
       "Variant                       VXI \n",
       "Mileage                      23431\n",
       "Owned                    1st Owner\n",
       "Fuel type                   Petrol\n",
       "City                       Kolkata\n",
       "Price                       485999\n",
       "Year                          2018\n",
       "Manufacturer                Maruti\n",
       "Model                        Swift\n",
       "Name: 1879, dtype: object"
      ]
     },
     "execution_count": 34,
     "metadata": {},
     "output_type": "execute_result"
    }
   ],
   "source": [
    "df.iloc[1879] # This car has max mileage"
   ]
  },
  {
   "cell_type": "code",
   "execution_count": 35,
   "metadata": {},
   "outputs": [
    {
     "data": {
      "text/plain": [
       "Price    1512\n",
       "dtype: int64"
      ]
     },
     "execution_count": 35,
     "metadata": {},
     "output_type": "execute_result"
    }
   ],
   "source": [
    "df[['Price']].idxmax() # Which df index has maximum price"
   ]
  },
  {
   "cell_type": "code",
   "execution_count": 36,
   "metadata": {},
   "outputs": [
    {
     "data": {
      "text/plain": [
       "Name                        Maruti S Cross\n",
       "Transmission type                   Manual\n",
       "Variant              MAGNA 1.2 KAPPA VTVT \n",
       "Mileage                              38536\n",
       "Owned                            2nd Owner\n",
       "Fuel type                           Petrol\n",
       "City                             Ahmedabad\n",
       "Price                               393799\n",
       "Year                                  2016\n",
       "Manufacturer                        Maruti\n",
       "Model                                    S\n",
       "Name: 2007, dtype: object"
      ]
     },
     "execution_count": 36,
     "metadata": {},
     "output_type": "execute_result"
    }
   ],
   "source": [
    "df.iloc[2007] # This car has max price"
   ]
  },
  {
   "cell_type": "code",
   "execution_count": 37,
   "metadata": {},
   "outputs": [
    {
     "data": {
      "text/plain": [
       "Price    118\n",
       "dtype: int64"
      ]
     },
     "execution_count": 37,
     "metadata": {},
     "output_type": "execute_result"
    }
   ],
   "source": [
    "df[['Price']].idxmin() # Which df index has minimum price"
   ]
  },
  {
   "cell_type": "code",
   "execution_count": 38,
   "metadata": {},
   "outputs": [
    {
     "data": {
      "text/plain": [
       "Name                  Maruti Swift Dzire\n",
       "Transmission type                 Manual\n",
       "Variant                       VDI BS IV \n",
       "Mileage                            49310\n",
       "Owned                          1st Owner\n",
       "Fuel type                         Diesel\n",
       "City                              Rohtak\n",
       "Price                             368699\n",
       "Year                                2012\n",
       "Manufacturer                      Maruti\n",
       "Model                              Swift\n",
       "Name: 92, dtype: object"
      ]
     },
     "execution_count": 38,
     "metadata": {},
     "output_type": "execute_result"
    }
   ],
   "source": [
    "df.iloc[92] # This car has min price"
   ]
  },
  {
   "cell_type": "code",
   "execution_count": 39,
   "metadata": {},
   "outputs": [
    {
     "data": {
      "text/plain": [
       "Mileage    1432\n",
       "dtype: int64"
      ]
     },
     "execution_count": 39,
     "metadata": {},
     "output_type": "execute_result"
    }
   ],
   "source": [
    "df[['Mileage']].idxmin() # Which df index has minimum mileage"
   ]
  },
  {
   "cell_type": "code",
   "execution_count": 40,
   "metadata": {},
   "outputs": [
    {
     "data": {
      "text/plain": [
       "Name                  Maruti Swift\n",
       "Transmission type           Manual\n",
       "Variant                       LXI \n",
       "Mileage                       5656\n",
       "Owned                    1st Owner\n",
       "Fuel type                   Petrol\n",
       "City                     Ahmedabad\n",
       "Price                       311199\n",
       "Year                          2015\n",
       "Manufacturer                Maruti\n",
       "Model                        Swift\n",
       "Name: 2059, dtype: object"
      ]
     },
     "execution_count": 40,
     "metadata": {},
     "output_type": "execute_result"
    }
   ],
   "source": [
    "df.iloc[2059] # This car has min mileage"
   ]
  },
  {
   "cell_type": "markdown",
   "metadata": {},
   "source": [
    "#### Pre-processing data"
   ]
  },
  {
   "cell_type": "code",
   "execution_count": 41,
   "metadata": {},
   "outputs": [
    {
     "data": {
      "text/plain": [
       "Name                  115\n",
       "Transmission type       2\n",
       "Variant               517\n",
       "Mileage              2385\n",
       "Owned                   5\n",
       "Fuel type               4\n",
       "City                   19\n",
       "Price                2064\n",
       "Year                   14\n",
       "Manufacturer           23\n",
       "Model                  97\n",
       "dtype: int64"
      ]
     },
     "execution_count": 41,
     "metadata": {},
     "output_type": "execute_result"
    }
   ],
   "source": [
    "df.nunique() # Now to simplify the data"
   ]
  },
  {
   "cell_type": "code",
   "execution_count": 42,
   "metadata": {},
   "outputs": [
    {
     "data": {
      "text/plain": [
       "Maruti        2164\n",
       "Hyundai        868\n",
       "Ford           217\n",
       "Honda          213\n",
       "Toyota         110\n",
       "Renault         93\n",
       "Volkswagen      81\n",
       "Tata            67\n",
       "Mahindra        41\n",
       "KIA             30\n",
       "MG              26\n",
       "Datsun          22\n",
       "Skoda           16\n",
       "Jeep            11\n",
       "BMW             11\n",
       "Nissan           8\n",
       "Audi             7\n",
       "Mercedes         4\n",
       "HYUNDAI          4\n",
       "Chevrolet        2\n",
       "Ssangyong        2\n",
       "RENAULT          2\n",
       "Fiat             1\n",
       "Name: Manufacturer, dtype: int64"
      ]
     },
     "execution_count": 42,
     "metadata": {},
     "output_type": "execute_result"
    }
   ],
   "source": [
    "df['Manufacturer'].value_counts() # We have a lot of manufacturers"
   ]
  },
  {
   "cell_type": "markdown",
   "metadata": {},
   "source": [
    "Now I will simplify the engine size and convert it to a range, I will also convert various variants of engine to get a better description."
   ]
  },
  {
   "cell_type": "code",
   "execution_count": 43,
   "metadata": {},
   "outputs": [],
   "source": [
    "df.loc[df['Variant'].str.contains('LXI', case=False), 'Variant'] = 'Basic Petrol'\n",
    "df.loc[df['Variant'].str.contains('VXI', case=False), 'Variant'] = 'Middle Petrol'\n",
    "df.loc[df['Variant'].str.contains('ZXI', case=False), 'Variant'] = 'Top Petrol'\n",
    "\n",
    "df.loc[df['Variant'].str.contains('VDI', case=False), 'Variant'] = 'Basic Diesel'\n",
    "df.loc[df['Variant'].str.contains('VDI', case=False), 'Variant'] = 'Middle Diesel'\n",
    "df.loc[df['Variant'].str.contains('ZDI', case=False), 'Variant'] = 'Top Diesel'\n",
    "\n",
    "df.loc[df['Variant'].str.contains('LUXURY', case=False), 'Variant'] = 'Luxury'\n",
    "\n",
    "df.loc[df['Variant'].str.contains('1.0', case=False), 'Variant'] = '1.0-1.5 Liter'\n",
    "df.loc[df['Variant'].str.contains('1.1', case=False), 'Variant'] = '1.0-1.5 Liter'\n",
    "df.loc[df['Variant'].str.contains('1.2', case=False), 'Variant'] = '1.0-1.5 Liter'\n",
    "df.loc[df['Variant'].str.contains('1.3', case=False), 'Variant'] = '1.0-1.5 Liter'\n",
    "df.loc[df['Variant'].str.contains('1.4', case=False), 'Variant'] = '1.0-1.5 Liter'\n",
    "df.loc[df['Variant'].str.contains('1.5', case=False), 'Variant'] = '1.0-1.5 Liter'\n",
    "df.loc[df['Variant'].str.contains('1.6', case=False), 'Variant'] = '1.5-2.0 Liter'\n",
    "df.loc[df['Variant'].str.contains('1.7', case=False), 'Variant'] = '1.5-2.0 Liter'\n",
    "df.loc[df['Variant'].str.contains('1.8', case=False), 'Variant'] = '1.5-2.0 Liter'\n",
    "df.loc[df['Variant'].str.contains('1.9', case=False), 'Variant'] = '1.5-2.0 Liter'\n",
    "df.loc[df['Variant'].str.contains('2.0', case=False), 'Variant'] = '1.5-2.0 Liter'\n",
    "df.loc[df['Variant'].str.contains('2.1', case=False), 'Variant'] = '2.0+ Liter'\n",
    "df.loc[df['Variant'].str.contains('2.2', case=False), 'Variant'] = '2.0+ Liter'\n",
    "df.loc[df['Variant'].str.contains('2.3', case=False), 'Variant'] = '2.0+ Liter'\n",
    "df.loc[df['Variant'].str.contains('2.4', case=False), 'Variant'] = '2.0+ Liter'\n",
    "df.loc[df['Variant'].str.contains('2.5', case=False), 'Variant'] = '2.0+ Liter'\n",
    "df.loc[df['Variant'].str.contains('2.6', case=False), 'Variant'] = '2.0+ Liter'\n",
    "df.loc[df['Variant'].str.contains('2.7', case=False), 'Variant'] = '2.0+ Liter'\n",
    "df.loc[df['Variant'].str.contains('2.8', case=False), 'Variant'] = '2.0+ Liter'\n",
    "df.loc[df['Variant'].str.contains('2.9', case=False), 'Variant'] = '2.0+ Liter'\n",
    "df.loc[df['Variant'].str.contains('3.0', case=False), 'Variant'] = '2.0+ Liter'\n",
    "df.loc[df['Variant'].str.contains('3.1', case=False), 'Variant'] = '2.0+ Liter'\n",
    "df.loc[df['Variant'].str.contains('3.2', case=False), 'Variant'] = '2.0+ Liter'\n",
    "df.loc[df['Variant'].str.contains('3.3', case=False), 'Variant'] = '2.0+ Liter'\n",
    "df.loc[df['Variant'].str.contains('3.4', case=False), 'Variant'] = '2.0+ Liter'\n",
    "df.loc[df['Variant'].str.contains('3.5', case=False), 'Variant'] = '2.0+ Liter'\n",
    "\n",
    "df.loc[df['Variant'].str.contains('5 STR WITH AC PLUSHTR', case=False), 'Variant'] = '1.0-1.5 Liter'\n",
    "df.loc[df['Variant'].str.contains('RXL', case=False), 'Variant'] = '1.0-1.5 Liter'\n",
    "df.loc[df['Variant'].str.contains('V MT PETROL', case=False), 'Variant'] = '1.0-1.5 Liter'\n",
    "df.loc[df['Variant'].str.contains('ERA PLUS', case=False), 'Variant'] = '1.0-1.5 Liter'"
   ]
  },
  {
   "cell_type": "code",
   "execution_count": 44,
   "metadata": {},
   "outputs": [],
   "source": [
    "df.loc[df.groupby('Variant').Variant.transform('count').lt(20), 'Variant'] = 'Other' \n",
    "\n",
    "# Combining variants as Other which have less than 20 value counts to simplify the data"
   ]
  },
  {
   "cell_type": "code",
   "execution_count": 45,
   "metadata": {},
   "outputs": [
    {
     "data": {
      "text/plain": [
       "1.0-1.5 Liter    1685\n",
       "Middle Petrol     774\n",
       "Basic Diesel      348\n",
       "Other             342\n",
       "Basic Petrol      313\n",
       "1.5-2.0 Liter     181\n",
       "Top Diesel        156\n",
       "Top Petrol        127\n",
       "2.0+ Liter         74\n",
       "Name: Variant, dtype: int64"
      ]
     },
     "execution_count": 45,
     "metadata": {},
     "output_type": "execute_result"
    }
   ],
   "source": [
    "df['Variant'].value_counts()"
   ]
  },
  {
   "cell_type": "code",
   "execution_count": 46,
   "metadata": {},
   "outputs": [
    {
     "data": {
      "text/plain": [
       "Alto       499\n",
       "Swift      456\n",
       "Grand      204\n",
       "Baleno     199\n",
       "Elite      189\n",
       "          ... \n",
       "Jetta        1\n",
       "Mobilio      1\n",
       "Lodgy        1\n",
       "KUV          1\n",
       "Linea        1\n",
       "Name: Model, Length: 97, dtype: int64"
      ]
     },
     "execution_count": 46,
     "metadata": {},
     "output_type": "execute_result"
    }
   ],
   "source": [
    "df['Model'].value_counts() # We have 100 different car models"
   ]
  },
  {
   "cell_type": "code",
   "execution_count": 47,
   "metadata": {},
   "outputs": [
    {
     "data": {
      "text/plain": [
       " Maruti Swift               342\n",
       " Hyundai Grand i10          204\n",
       " Maruti Alto 800            200\n",
       " Maruti Baleno              199\n",
       " Hyundai Elite i20          189\n",
       "                           ... \n",
       " Mercedes Benz CLS Class      1\n",
       " Mercedes Benz C Class        1\n",
       " Honda Mobilio                1\n",
       " Volkswagen Jetta             1\n",
       " Renault Captur               1\n",
       "Name: Name, Length: 115, dtype: int64"
      ]
     },
     "execution_count": 47,
     "metadata": {},
     "output_type": "execute_result"
    }
   ],
   "source": [
    "df['Name'].value_counts() # We have 115 different names"
   ]
  },
  {
   "cell_type": "code",
   "execution_count": 48,
   "metadata": {},
   "outputs": [],
   "source": [
    "df.drop(['Name'], axis = 1, inplace = True) # Dropping the name columns as I have already separated it into 'Name' and 'Model'"
   ]
  },
  {
   "cell_type": "markdown",
   "metadata": {},
   "source": [
    "### EDA"
   ]
  },
  {
   "cell_type": "code",
   "execution_count": 49,
   "metadata": {},
   "outputs": [
    {
     "data": {
      "image/png": "[encoded data removed]",
      "text/plain": [
       "<Figure size 1440x576 with 2 Axes>"
      ]
     },
     "metadata": {
      "needs_background": "light"
     },
     "output_type": "display_data"
    }
   ],
   "source": [
    "plt.figure(figsize=(20,8))\n",
    "\n",
    "plt.subplot(1,2,1)\n",
    "plt.title('Engine Type Histogram')\n",
    "plt.xticks(rotation=45)\n",
    "sns.countplot(df.Variant, palette=(\"Blues_d\"))\n",
    "plt.ticklabel_format(style='plain', axis='y')\n",
    "plt.subplot(1,2,2)\n",
    "plt.title('Engine Type vs Price')\n",
    "sns.boxplot(x=df.Variant, y=df.Price, palette=(\"PuBuGn\"))\n",
    "\n",
    "plt.xticks(rotation=45)\n",
    "plt.ticklabel_format(style='plain', axis='y')\n",
    "plt.show()"
   ]
  },
  {
   "cell_type": "markdown",
   "metadata": {},
   "source": [
    "Count plot and price plot according to the cars engine variant"
   ]
  },
  {
   "cell_type": "code",
   "execution_count": 50,
   "metadata": {},
   "outputs": [
    {
     "data": {
      "image/png": "[encoded data removed]",
      "text/plain": [
       "<Figure size 432x288 with 1 Axes>"
      ]
     },
     "metadata": {
      "needs_background": "light"
     },
     "output_type": "display_data"
    }
   ],
   "source": [
    "df_fuel = pd.DataFrame(df.groupby(['Fuel type'])['Price'].mean().sort_values(ascending = False))\n",
    "df_fuel.plot.bar()\n",
    "plt.ticklabel_format(style='plain', axis='y')\n",
    "plt.title('Fuel Type vs Average Price')\n",
    "plt.show()"
   ]
  },
  {
   "cell_type": "markdown",
   "metadata": {},
   "source": [
    "Average price of car with respect to the fuel type. Diesel is most evpensive, then petrol, least expensive is Petrol + LPG"
   ]
  },
  {
   "cell_type": "code",
   "execution_count": 51,
   "metadata": {},
   "outputs": [
    {
     "data": {
      "text/html": [
       "<div>\n",
       "<style scoped>\n",
       "    .dataframe tbody tr th:only-of-type {\n",
       "        vertical-align: middle;\n",
       "    }\n",
       "\n",
       "    .dataframe tbody tr th {\n",
       "        vertical-align: top;\n",
       "    }\n",
       "\n",
       "    .dataframe thead th {\n",
       "        text-align: right;\n",
       "    }\n",
       "</style>\n",
       "<table border=\"1\" class=\"dataframe\">\n",
       "  <thead>\n",
       "    <tr style=\"text-align: right;\">\n",
       "      <th></th>\n",
       "      <th>Transmission type</th>\n",
       "      <th>Variant</th>\n",
       "      <th>Mileage</th>\n",
       "      <th>Owned</th>\n",
       "      <th>Fuel type</th>\n",
       "      <th>City</th>\n",
       "      <th>Price</th>\n",
       "      <th>Year</th>\n",
       "      <th>Manufacturer</th>\n",
       "      <th>Model</th>\n",
       "    </tr>\n",
       "  </thead>\n",
       "  <tbody>\n",
       "    <tr>\n",
       "      <th>0</th>\n",
       "      <td>Manual</td>\n",
       "      <td>1.0-1.5 Liter</td>\n",
       "      <td>80605</td>\n",
       "      <td>1st Owner</td>\n",
       "      <td>Diesel</td>\n",
       "      <td>Rohtak</td>\n",
       "      <td>401599</td>\n",
       "      <td>2015</td>\n",
       "      <td>Toyota</td>\n",
       "      <td>Etios</td>\n",
       "    </tr>\n",
       "    <tr>\n",
       "      <th>1</th>\n",
       "      <td>Manual</td>\n",
       "      <td>1.0-1.5 Liter</td>\n",
       "      <td>82877</td>\n",
       "      <td>3rd Owner</td>\n",
       "      <td>Diesel</td>\n",
       "      <td>Rohtak</td>\n",
       "      <td>281899</td>\n",
       "      <td>2013</td>\n",
       "      <td>Honda</td>\n",
       "      <td>Amaze</td>\n",
       "    </tr>\n",
       "    <tr>\n",
       "      <th>2</th>\n",
       "      <td>Manual</td>\n",
       "      <td>Middle Petrol</td>\n",
       "      <td>46758</td>\n",
       "      <td>1st Owner</td>\n",
       "      <td>Petrol</td>\n",
       "      <td>Rohtak</td>\n",
       "      <td>478599</td>\n",
       "      <td>2017</td>\n",
       "      <td>Maruti</td>\n",
       "      <td>Swift</td>\n",
       "    </tr>\n",
       "    <tr>\n",
       "      <th>3</th>\n",
       "      <td>Automatic</td>\n",
       "      <td>1.0-1.5 Liter</td>\n",
       "      <td>138467</td>\n",
       "      <td>1st Owner</td>\n",
       "      <td>Diesel</td>\n",
       "      <td>Rohtak</td>\n",
       "      <td>610599</td>\n",
       "      <td>2017</td>\n",
       "      <td>Skoda</td>\n",
       "      <td>Rapid</td>\n",
       "    </tr>\n",
       "    <tr>\n",
       "      <th>4</th>\n",
       "      <td>Manual</td>\n",
       "      <td>1.0-1.5 Liter</td>\n",
       "      <td>9483</td>\n",
       "      <td>2nd Owner</td>\n",
       "      <td>Petrol</td>\n",
       "      <td>Rohtak</td>\n",
       "      <td>615199</td>\n",
       "      <td>2018</td>\n",
       "      <td>Maruti</td>\n",
       "      <td>Baleno</td>\n",
       "    </tr>\n",
       "  </tbody>\n",
       "</table>\n",
       "</div>"
      ],
      "text/plain": [
       "  Transmission type        Variant  Mileage      Owned Fuel type    City  \\\n",
       "0            Manual  1.0-1.5 Liter    80605  1st Owner    Diesel  Rohtak   \n",
       "1            Manual  1.0-1.5 Liter    82877  3rd Owner    Diesel  Rohtak   \n",
       "2            Manual  Middle Petrol    46758  1st Owner    Petrol  Rohtak   \n",
       "3         Automatic  1.0-1.5 Liter   138467  1st Owner    Diesel  Rohtak   \n",
       "4            Manual  1.0-1.5 Liter     9483  2nd Owner    Petrol  Rohtak   \n",
       "\n",
       "    Price  Year Manufacturer   Model  \n",
       "0  401599  2015       Toyota   Etios  \n",
       "1  281899  2013        Honda   Amaze  \n",
       "2  478599  2017       Maruti   Swift  \n",
       "3  610599  2017        Skoda   Rapid  \n",
       "4  615199  2018       Maruti  Baleno  "
      ]
     },
     "execution_count": 51,
     "metadata": {},
     "output_type": "execute_result"
    }
   ],
   "source": [
    "df.head()"
   ]
  },
  {
   "cell_type": "code",
   "execution_count": 52,
   "metadata": {},
   "outputs": [
    {
     "data": {
      "image/png": "[encoded data removed]",
      "text/plain": [
       "<Figure size 432x288 with 1 Axes>"
      ]
     },
     "metadata": {
      "needs_background": "light"
     },
     "output_type": "display_data"
    }
   ],
   "source": [
    "df_trans = pd.DataFrame(df.groupby(['Transmission type'])['Price'].mean().sort_values(ascending = False))\n",
    "df_trans.plot.bar()\n",
    "plt.ticklabel_format(style='plain', axis='y')\n",
    "plt.title('Transmission Type vs Average Price')\n",
    "plt.show()"
   ]
  },
  {
   "cell_type": "markdown",
   "metadata": {},
   "source": [
    "As expected cars which have automatic transmission are on average priced above Rs. 80,000 and cars which have manual transmission are on average price around Rs 50,000"
   ]
  },
  {
   "cell_type": "code",
   "execution_count": 53,
   "metadata": {},
   "outputs": [
    {
     "data": {
      "image/png": "[encoded data removed]",
      "text/plain": [
       "<Figure size 432x288 with 1 Axes>"
      ]
     },
     "metadata": {
      "needs_background": "light"
     },
     "output_type": "display_data"
    }
   ],
   "source": [
    "df_ownd = pd.DataFrame(df.groupby(['Owned'])['Price'].mean().sort_values(ascending = False))\n",
    "df_ownd.plot.bar()\n",
    "plt.ticklabel_format(style='plain', axis='y')\n",
    "plt.title('Number of previous owners vs Average Price')\n",
    "plt.show()"
   ]
  },
  {
   "cell_type": "markdown",
   "metadata": {},
   "source": [
    "We can observe that as number of owners go up, the average price of car decreases, this is what one would expect."
   ]
  },
  {
   "cell_type": "code",
   "execution_count": 54,
   "metadata": {},
   "outputs": [
    {
     "data": {
      "image/png": "[encoded data removed]",
      "text/plain": [
       "<Figure size 432x288 with 1 Axes>"
      ]
     },
     "metadata": {
      "needs_background": "light"
     },
     "output_type": "display_data"
    }
   ],
   "source": [
    "df_vrnt = pd.DataFrame(df.groupby(['Variant'])['Price'].mean().sort_values(ascending = False))\n",
    "df_vrnt.plot.bar()\n",
    "\n",
    "plt.title('Engine Type vs Average Price')\n",
    "plt.ticklabel_format(style='plain', axis='y')\n",
    "plt.show()"
   ]
  },
  {
   "cell_type": "markdown",
   "metadata": {},
   "source": [
    "We can see that 2 liter engine is the most common engine size."
   ]
  },
  {
   "cell_type": "markdown",
   "metadata": {},
   "source": [
    "#### Multi variate analysis"
   ]
  },
  {
   "cell_type": "code",
   "execution_count": 55,
   "metadata": {},
   "outputs": [
    {
     "data": {
      "text/plain": [
       "<Figure size 1080x1080 with 0 Axes>"
      ]
     },
     "metadata": {},
     "output_type": "display_data"
    },
    {
     "data": {
      "image/png": "[encoded data removed]",
      "text/plain": [
       "<Figure size 540x540 with 12 Axes>"
      ]
     },
     "metadata": {
      "needs_background": "light"
     },
     "output_type": "display_data"
    }
   ],
   "source": [
    "plt.figure(figsize=(15,15))\n",
    "sns.pairplot(df)\n",
    "plt.ticklabel_format(style='plain', axis='y')\n",
    "plt.show()"
   ]
  },
  {
   "cell_type": "code",
   "execution_count": 56,
   "metadata": {},
   "outputs": [
    {
     "data": {
      "image/png": "[encoded data removed]",
      "text/plain": [
       "<Figure size 864x864 with 2 Axes>"
      ]
     },
     "metadata": {
      "needs_background": "light"
     },
     "output_type": "display_data"
    }
   ],
   "source": [
    "plt.figure(figsize=(12,12)) # Co-relation heat map\n",
    "sns.heatmap(df.corr(),linewidths=.1,cmap=\"YlGnBu\", annot=True)\n",
    "plt.yticks(rotation=0); # Checkign co-relation"
   ]
  },
  {
   "cell_type": "code",
   "execution_count": 57,
   "metadata": {},
   "outputs": [],
   "source": [
    "df.loc[df.groupby('Model').Variant.transform('count').lt(20), 'Variant'] = 'Other'  \n",
    "# If less that 20 count, Model is renamed to 'Other'"
   ]
  },
  {
   "cell_type": "code",
   "execution_count": 58,
   "metadata": {},
   "outputs": [],
   "source": [
    "# Defining the map function\n",
    "def dummies(x,df):\n",
    "    temp = pd.get_dummies(df[x], drop_first = True)\n",
    "    df = pd.concat([df, temp], axis = 1)\n",
    "    df.drop([x], axis = 1, inplace = True)\n",
    "    return df\n",
    "# Applying the function to the df\n",
    "\n",
    "df = dummies('Transmission type',df)\n",
    "df = dummies('Variant',df)\n",
    "df = dummies('Owned',df)\n",
    "df = dummies('Fuel type',df)\n",
    "df = dummies('City',df)\n",
    "df = dummies('Manufacturer',df)\n",
    "df = dummies('Model',df)"
   ]
  },
  {
   "cell_type": "code",
   "execution_count": 59,
   "metadata": {},
   "outputs": [
    {
     "data": {
      "text/html": [
       "<div>\n",
       "<style scoped>\n",
       "    .dataframe tbody tr th:only-of-type {\n",
       "        vertical-align: middle;\n",
       "    }\n",
       "\n",
       "    .dataframe tbody tr th {\n",
       "        vertical-align: top;\n",
       "    }\n",
       "\n",
       "    .dataframe thead th {\n",
       "        text-align: right;\n",
       "    }\n",
       "</style>\n",
       "<table border=\"1\" class=\"dataframe\">\n",
       "  <thead>\n",
       "    <tr style=\"text-align: right;\">\n",
       "      <th></th>\n",
       "      <th>Mileage</th>\n",
       "      <th>Price</th>\n",
       "      <th>Year</th>\n",
       "      <th>Manual</th>\n",
       "      <th>1.5-2.0 Liter</th>\n",
       "      <th>2.0+ Liter</th>\n",
       "      <th>Basic Diesel</th>\n",
       "      <th>Basic Petrol</th>\n",
       "      <th>Middle Petrol</th>\n",
       "      <th>Other</th>\n",
       "      <th>Top Diesel</th>\n",
       "      <th>Top Petrol</th>\n",
       "      <th>2nd Owner</th>\n",
       "      <th>3rd Owner</th>\n",
       "      <th>4th Owner</th>\n",
       "      <th>5th Owner</th>\n",
       "      <th>Petrol</th>\n",
       "      <th>Petrol + CNG</th>\n",
       "      <th>Petrol + LPG</th>\n",
       "      <th>Bengaluru</th>\n",
       "      <th>Bhopal</th>\n",
       "      <th>Chandigarh</th>\n",
       "      <th>Chennai</th>\n",
       "      <th>Delhi</th>\n",
       "      <th>Hyderabad</th>\n",
       "      <th>Jaipur</th>\n",
       "      <th>Kolkata</th>\n",
       "      <th>Ludhiana</th>\n",
       "      <th>Meerut</th>\n",
       "      <th>Mumbai</th>\n",
       "      <th>Mysore</th>\n",
       "      <th>Nasik</th>\n",
       "      <th>Panipat</th>\n",
       "      <th>Pune</th>\n",
       "      <th>Rajkot</th>\n",
       "      <th>Rohtak</th>\n",
       "      <th>Surat</th>\n",
       "      <th>BMW</th>\n",
       "      <th>Chevrolet</th>\n",
       "      <th>Datsun</th>\n",
       "      <th>Fiat</th>\n",
       "      <th>Ford</th>\n",
       "      <th>HYUNDAI</th>\n",
       "      <th>Honda</th>\n",
       "      <th>Hyundai</th>\n",
       "      <th>Jeep</th>\n",
       "      <th>KIA</th>\n",
       "      <th>MG</th>\n",
       "      <th>Mahindra</th>\n",
       "      <th>Maruti</th>\n",
       "      <th>Mercedes</th>\n",
       "      <th>Nissan</th>\n",
       "      <th>RENAULT</th>\n",
       "      <th>Renault</th>\n",
       "      <th>Skoda</th>\n",
       "      <th>Ssangyong</th>\n",
       "      <th>Tata</th>\n",
       "      <th>Toyota</th>\n",
       "      <th>Volkswagen</th>\n",
       "      <th>5</th>\n",
       "      <th>A3</th>\n",
       "      <th>ALTROZ</th>\n",
       "      <th>AURA</th>\n",
       "      <th>Alto</th>\n",
       "      <th>Amaze</th>\n",
       "      <th>Ameo</th>\n",
       "      <th>BR-V</th>\n",
       "      <th>Baleno</th>\n",
       "      <th>Beat</th>\n",
       "      <th>Benz</th>\n",
       "      <th>Bolero</th>\n",
       "      <th>Brio</th>\n",
       "      <th>CRV</th>\n",
       "      <th>Camry</th>\n",
       "      <th>Captur</th>\n",
       "      <th>Celerio</th>\n",
       "      <th>Ciaz</th>\n",
       "      <th>City</th>\n",
       "      <th>Civic</th>\n",
       "      <th>Compass</th>\n",
       "      <th>Corolla</th>\n",
       "      <th>Creta</th>\n",
       "      <th>Duster</th>\n",
       "      <th>Dzire</th>\n",
       "      <th>Ecosport</th>\n",
       "      <th>Eeco</th>\n",
       "      <th>Elite</th>\n",
       "      <th>Endeavour</th>\n",
       "      <th>Eon</th>\n",
       "      <th>Ertiga</th>\n",
       "      <th>Etios</th>\n",
       "      <th>FREESTYLE</th>\n",
       "      <th>Figo</th>\n",
       "      <th>Fortuner</th>\n",
       "      <th>GRAND</th>\n",
       "      <th>Glanza</th>\n",
       "      <th>Go</th>\n",
       "      <th>Grand</th>\n",
       "      <th>HECTOR</th>\n",
       "      <th>Harrier</th>\n",
       "      <th>Hexa</th>\n",
       "      <th>IGNIS</th>\n",
       "      <th>Indica</th>\n",
       "      <th>Innova</th>\n",
       "      <th>Jazz</th>\n",
       "      <th>Jetta</th>\n",
       "      <th>KAROQ</th>\n",
       "      <th>KUV</th>\n",
       "      <th>Kiger</th>\n",
       "      <th>Kuv100</th>\n",
       "      <th>Kwid</th>\n",
       "      <th>Linea</th>\n",
       "      <th>Lodgy</th>\n",
       "      <th>Micra</th>\n",
       "      <th>Mobilio</th>\n",
       "      <th>NEW</th>\n",
       "      <th>NEXON</th>\n",
       "      <th>Nano</th>\n",
       "      <th>New</th>\n",
       "      <th>OMNI</th>\n",
       "      <th>Octavia</th>\n",
       "      <th>Polo</th>\n",
       "      <th>Rapid</th>\n",
       "      <th>Redi</th>\n",
       "      <th>Rexton</th>\n",
       "      <th>Ritz</th>\n",
       "      <th>S</th>\n",
       "      <th>SELTOS</th>\n",
       "      <th>Santro</th>\n",
       "      <th>Scorpio</th>\n",
       "      <th>Sunny</th>\n",
       "      <th>Superb</th>\n",
       "      <th>Swift</th>\n",
       "      <th>TIGOR</th>\n",
       "      <th>TRIBER</th>\n",
       "      <th>TUV300</th>\n",
       "      <th>Terrano</th>\n",
       "      <th>Thar</th>\n",
       "      <th>Tiago</th>\n",
       "      <th>Tucson</th>\n",
       "      <th>VENUE</th>\n",
       "      <th>Vento</th>\n",
       "      <th>Verna</th>\n",
       "      <th>Vitara</th>\n",
       "      <th>WR-V</th>\n",
       "      <th>Wagon</th>\n",
       "      <th>X1</th>\n",
       "      <th>XL6</th>\n",
       "      <th>XUV</th>\n",
       "      <th>XUV500</th>\n",
       "      <th>Xcent</th>\n",
       "      <th>YARIS</th>\n",
       "      <th>Zen</th>\n",
       "      <th>i10</th>\n",
       "      <th>i20</th>\n",
       "    </tr>\n",
       "  </thead>\n",
       "  <tbody>\n",
       "    <tr>\n",
       "      <th>0</th>\n",
       "      <td>80605</td>\n",
       "      <td>401599</td>\n",
       "      <td>2015</td>\n",
       "      <td>1</td>\n",
       "      <td>0</td>\n",
       "      <td>0</td>\n",
       "      <td>0</td>\n",
       "      <td>0</td>\n",
       "      <td>0</td>\n",
       "      <td>1</td>\n",
       "      <td>0</td>\n",
       "      <td>0</td>\n",
       "      <td>0</td>\n",
       "      <td>0</td>\n",
       "      <td>0</td>\n",
       "      <td>0</td>\n",
       "      <td>0</td>\n",
       "      <td>0</td>\n",
       "      <td>0</td>\n",
       "      <td>0</td>\n",
       "      <td>0</td>\n",
       "      <td>0</td>\n",
       "      <td>0</td>\n",
       "      <td>0</td>\n",
       "      <td>0</td>\n",
       "      <td>0</td>\n",
       "      <td>0</td>\n",
       "      <td>0</td>\n",
       "      <td>0</td>\n",
       "      <td>0</td>\n",
       "      <td>0</td>\n",
       "      <td>0</td>\n",
       "      <td>0</td>\n",
       "      <td>0</td>\n",
       "      <td>0</td>\n",
       "      <td>1</td>\n",
       "      <td>0</td>\n",
       "      <td>0</td>\n",
       "      <td>0</td>\n",
       "      <td>0</td>\n",
       "      <td>0</td>\n",
       "      <td>0</td>\n",
       "      <td>0</td>\n",
       "      <td>0</td>\n",
       "      <td>0</td>\n",
       "      <td>0</td>\n",
       "      <td>0</td>\n",
       "      <td>0</td>\n",
       "      <td>0</td>\n",
       "      <td>0</td>\n",
       "      <td>0</td>\n",
       "      <td>0</td>\n",
       "      <td>0</td>\n",
       "      <td>0</td>\n",
       "      <td>0</td>\n",
       "      <td>0</td>\n",
       "      <td>0</td>\n",
       "      <td>1</td>\n",
       "      <td>0</td>\n",
       "      <td>0</td>\n",
       "      <td>0</td>\n",
       "      <td>0</td>\n",
       "      <td>0</td>\n",
       "      <td>0</td>\n",
       "      <td>0</td>\n",
       "      <td>0</td>\n",
       "      <td>0</td>\n",
       "      <td>0</td>\n",
       "      <td>0</td>\n",
       "      <td>0</td>\n",
       "      <td>0</td>\n",
       "      <td>0</td>\n",
       "      <td>0</td>\n",
       "      <td>0</td>\n",
       "      <td>0</td>\n",
       "      <td>0</td>\n",
       "      <td>0</td>\n",
       "      <td>0</td>\n",
       "      <td>0</td>\n",
       "      <td>0</td>\n",
       "      <td>0</td>\n",
       "      <td>0</td>\n",
       "      <td>0</td>\n",
       "      <td>0</td>\n",
       "      <td>0</td>\n",
       "      <td>0</td>\n",
       "      <td>0</td>\n",
       "      <td>0</td>\n",
       "      <td>0</td>\n",
       "      <td>0</td>\n",
       "      <td>1</td>\n",
       "      <td>0</td>\n",
       "      <td>0</td>\n",
       "      <td>0</td>\n",
       "      <td>0</td>\n",
       "      <td>0</td>\n",
       "      <td>0</td>\n",
       "      <td>0</td>\n",
       "      <td>0</td>\n",
       "      <td>0</td>\n",
       "      <td>0</td>\n",
       "      <td>0</td>\n",
       "      <td>0</td>\n",
       "      <td>0</td>\n",
       "      <td>0</td>\n",
       "      <td>0</td>\n",
       "      <td>0</td>\n",
       "      <td>0</td>\n",
       "      <td>0</td>\n",
       "      <td>0</td>\n",
       "      <td>0</td>\n",
       "      <td>0</td>\n",
       "      <td>0</td>\n",
       "      <td>0</td>\n",
       "      <td>0</td>\n",
       "      <td>0</td>\n",
       "      <td>0</td>\n",
       "      <td>0</td>\n",
       "      <td>0</td>\n",
       "      <td>0</td>\n",
       "      <td>0</td>\n",
       "      <td>0</td>\n",
       "      <td>0</td>\n",
       "      <td>0</td>\n",
       "      <td>0</td>\n",
       "      <td>0</td>\n",
       "      <td>0</td>\n",
       "      <td>0</td>\n",
       "      <td>0</td>\n",
       "      <td>0</td>\n",
       "      <td>0</td>\n",
       "      <td>0</td>\n",
       "      <td>0</td>\n",
       "      <td>0</td>\n",
       "      <td>0</td>\n",
       "      <td>0</td>\n",
       "      <td>0</td>\n",
       "      <td>0</td>\n",
       "      <td>0</td>\n",
       "      <td>0</td>\n",
       "      <td>0</td>\n",
       "      <td>0</td>\n",
       "      <td>0</td>\n",
       "      <td>0</td>\n",
       "      <td>0</td>\n",
       "      <td>0</td>\n",
       "      <td>0</td>\n",
       "      <td>0</td>\n",
       "      <td>0</td>\n",
       "      <td>0</td>\n",
       "      <td>0</td>\n",
       "      <td>0</td>\n",
       "      <td>0</td>\n",
       "      <td>0</td>\n",
       "      <td>0</td>\n",
       "    </tr>\n",
       "    <tr>\n",
       "      <th>1</th>\n",
       "      <td>82877</td>\n",
       "      <td>281899</td>\n",
       "      <td>2013</td>\n",
       "      <td>1</td>\n",
       "      <td>0</td>\n",
       "      <td>0</td>\n",
       "      <td>0</td>\n",
       "      <td>0</td>\n",
       "      <td>0</td>\n",
       "      <td>0</td>\n",
       "      <td>0</td>\n",
       "      <td>0</td>\n",
       "      <td>0</td>\n",
       "      <td>1</td>\n",
       "      <td>0</td>\n",
       "      <td>0</td>\n",
       "      <td>0</td>\n",
       "      <td>0</td>\n",
       "      <td>0</td>\n",
       "      <td>0</td>\n",
       "      <td>0</td>\n",
       "      <td>0</td>\n",
       "      <td>0</td>\n",
       "      <td>0</td>\n",
       "      <td>0</td>\n",
       "      <td>0</td>\n",
       "      <td>0</td>\n",
       "      <td>0</td>\n",
       "      <td>0</td>\n",
       "      <td>0</td>\n",
       "      <td>0</td>\n",
       "      <td>0</td>\n",
       "      <td>0</td>\n",
       "      <td>0</td>\n",
       "      <td>0</td>\n",
       "      <td>1</td>\n",
       "      <td>0</td>\n",
       "      <td>0</td>\n",
       "      <td>0</td>\n",
       "      <td>0</td>\n",
       "      <td>0</td>\n",
       "      <td>0</td>\n",
       "      <td>0</td>\n",
       "      <td>1</td>\n",
       "      <td>0</td>\n",
       "      <td>0</td>\n",
       "      <td>0</td>\n",
       "      <td>0</td>\n",
       "      <td>0</td>\n",
       "      <td>0</td>\n",
       "      <td>0</td>\n",
       "      <td>0</td>\n",
       "      <td>0</td>\n",
       "      <td>0</td>\n",
       "      <td>0</td>\n",
       "      <td>0</td>\n",
       "      <td>0</td>\n",
       "      <td>0</td>\n",
       "      <td>0</td>\n",
       "      <td>0</td>\n",
       "      <td>0</td>\n",
       "      <td>0</td>\n",
       "      <td>0</td>\n",
       "      <td>0</td>\n",
       "      <td>1</td>\n",
       "      <td>0</td>\n",
       "      <td>0</td>\n",
       "      <td>0</td>\n",
       "      <td>0</td>\n",
       "      <td>0</td>\n",
       "      <td>0</td>\n",
       "      <td>0</td>\n",
       "      <td>0</td>\n",
       "      <td>0</td>\n",
       "      <td>0</td>\n",
       "      <td>0</td>\n",
       "      <td>0</td>\n",
       "      <td>0</td>\n",
       "      <td>0</td>\n",
       "      <td>0</td>\n",
       "      <td>0</td>\n",
       "      <td>0</td>\n",
       "      <td>0</td>\n",
       "      <td>0</td>\n",
       "      <td>0</td>\n",
       "      <td>0</td>\n",
       "      <td>0</td>\n",
       "      <td>0</td>\n",
       "      <td>0</td>\n",
       "      <td>0</td>\n",
       "      <td>0</td>\n",
       "      <td>0</td>\n",
       "      <td>0</td>\n",
       "      <td>0</td>\n",
       "      <td>0</td>\n",
       "      <td>0</td>\n",
       "      <td>0</td>\n",
       "      <td>0</td>\n",
       "      <td>0</td>\n",
       "      <td>0</td>\n",
       "      <td>0</td>\n",
       "      <td>0</td>\n",
       "      <td>0</td>\n",
       "      <td>0</td>\n",
       "      <td>0</td>\n",
       "      <td>0</td>\n",
       "      <td>0</td>\n",
       "      <td>0</td>\n",
       "      <td>0</td>\n",
       "      <td>0</td>\n",
       "      <td>0</td>\n",
       "      <td>0</td>\n",
       "      <td>0</td>\n",
       "      <td>0</td>\n",
       "      <td>0</td>\n",
       "      <td>0</td>\n",
       "      <td>0</td>\n",
       "      <td>0</td>\n",
       "      <td>0</td>\n",
       "      <td>0</td>\n",
       "      <td>0</td>\n",
       "      <td>0</td>\n",
       "      <td>0</td>\n",
       "      <td>0</td>\n",
       "      <td>0</td>\n",
       "      <td>0</td>\n",
       "      <td>0</td>\n",
       "      <td>0</td>\n",
       "      <td>0</td>\n",
       "      <td>0</td>\n",
       "      <td>0</td>\n",
       "      <td>0</td>\n",
       "      <td>0</td>\n",
       "      <td>0</td>\n",
       "      <td>0</td>\n",
       "      <td>0</td>\n",
       "      <td>0</td>\n",
       "      <td>0</td>\n",
       "      <td>0</td>\n",
       "      <td>0</td>\n",
       "      <td>0</td>\n",
       "      <td>0</td>\n",
       "      <td>0</td>\n",
       "      <td>0</td>\n",
       "      <td>0</td>\n",
       "      <td>0</td>\n",
       "      <td>0</td>\n",
       "      <td>0</td>\n",
       "      <td>0</td>\n",
       "      <td>0</td>\n",
       "      <td>0</td>\n",
       "      <td>0</td>\n",
       "      <td>0</td>\n",
       "      <td>0</td>\n",
       "      <td>0</td>\n",
       "    </tr>\n",
       "    <tr>\n",
       "      <th>2</th>\n",
       "      <td>46758</td>\n",
       "      <td>478599</td>\n",
       "      <td>2017</td>\n",
       "      <td>1</td>\n",
       "      <td>0</td>\n",
       "      <td>0</td>\n",
       "      <td>0</td>\n",
       "      <td>0</td>\n",
       "      <td>1</td>\n",
       "      <td>0</td>\n",
       "      <td>0</td>\n",
       "      <td>0</td>\n",
       "      <td>0</td>\n",
       "      <td>0</td>\n",
       "      <td>0</td>\n",
       "      <td>0</td>\n",
       "      <td>1</td>\n",
       "      <td>0</td>\n",
       "      <td>0</td>\n",
       "      <td>0</td>\n",
       "      <td>0</td>\n",
       "      <td>0</td>\n",
       "      <td>0</td>\n",
       "      <td>0</td>\n",
       "      <td>0</td>\n",
       "      <td>0</td>\n",
       "      <td>0</td>\n",
       "      <td>0</td>\n",
       "      <td>0</td>\n",
       "      <td>0</td>\n",
       "      <td>0</td>\n",
       "      <td>0</td>\n",
       "      <td>0</td>\n",
       "      <td>0</td>\n",
       "      <td>0</td>\n",
       "      <td>1</td>\n",
       "      <td>0</td>\n",
       "      <td>0</td>\n",
       "      <td>0</td>\n",
       "      <td>0</td>\n",
       "      <td>0</td>\n",
       "      <td>0</td>\n",
       "      <td>0</td>\n",
       "      <td>0</td>\n",
       "      <td>0</td>\n",
       "      <td>0</td>\n",
       "      <td>0</td>\n",
       "      <td>0</td>\n",
       "      <td>0</td>\n",
       "      <td>1</td>\n",
       "      <td>0</td>\n",
       "      <td>0</td>\n",
       "      <td>0</td>\n",
       "      <td>0</td>\n",
       "      <td>0</td>\n",
       "      <td>0</td>\n",
       "      <td>0</td>\n",
       "      <td>0</td>\n",
       "      <td>0</td>\n",
       "      <td>0</td>\n",
       "      <td>0</td>\n",
       "      <td>0</td>\n",
       "      <td>0</td>\n",
       "      <td>0</td>\n",
       "      <td>0</td>\n",
       "      <td>0</td>\n",
       "      <td>0</td>\n",
       "      <td>0</td>\n",
       "      <td>0</td>\n",
       "      <td>0</td>\n",
       "      <td>0</td>\n",
       "      <td>0</td>\n",
       "      <td>0</td>\n",
       "      <td>0</td>\n",
       "      <td>0</td>\n",
       "      <td>0</td>\n",
       "      <td>0</td>\n",
       "      <td>0</td>\n",
       "      <td>0</td>\n",
       "      <td>0</td>\n",
       "      <td>0</td>\n",
       "      <td>0</td>\n",
       "      <td>0</td>\n",
       "      <td>0</td>\n",
       "      <td>0</td>\n",
       "      <td>0</td>\n",
       "      <td>0</td>\n",
       "      <td>0</td>\n",
       "      <td>0</td>\n",
       "      <td>0</td>\n",
       "      <td>0</td>\n",
       "      <td>0</td>\n",
       "      <td>0</td>\n",
       "      <td>0</td>\n",
       "      <td>0</td>\n",
       "      <td>0</td>\n",
       "      <td>0</td>\n",
       "      <td>0</td>\n",
       "      <td>0</td>\n",
       "      <td>0</td>\n",
       "      <td>0</td>\n",
       "      <td>0</td>\n",
       "      <td>0</td>\n",
       "      <td>0</td>\n",
       "      <td>0</td>\n",
       "      <td>0</td>\n",
       "      <td>0</td>\n",
       "      <td>0</td>\n",
       "      <td>0</td>\n",
       "      <td>0</td>\n",
       "      <td>0</td>\n",
       "      <td>0</td>\n",
       "      <td>0</td>\n",
       "      <td>0</td>\n",
       "      <td>0</td>\n",
       "      <td>0</td>\n",
       "      <td>0</td>\n",
       "      <td>0</td>\n",
       "      <td>0</td>\n",
       "      <td>0</td>\n",
       "      <td>0</td>\n",
       "      <td>0</td>\n",
       "      <td>0</td>\n",
       "      <td>0</td>\n",
       "      <td>0</td>\n",
       "      <td>0</td>\n",
       "      <td>0</td>\n",
       "      <td>0</td>\n",
       "      <td>0</td>\n",
       "      <td>0</td>\n",
       "      <td>0</td>\n",
       "      <td>0</td>\n",
       "      <td>1</td>\n",
       "      <td>0</td>\n",
       "      <td>0</td>\n",
       "      <td>0</td>\n",
       "      <td>0</td>\n",
       "      <td>0</td>\n",
       "      <td>0</td>\n",
       "      <td>0</td>\n",
       "      <td>0</td>\n",
       "      <td>0</td>\n",
       "      <td>0</td>\n",
       "      <td>0</td>\n",
       "      <td>0</td>\n",
       "      <td>0</td>\n",
       "      <td>0</td>\n",
       "      <td>0</td>\n",
       "      <td>0</td>\n",
       "      <td>0</td>\n",
       "      <td>0</td>\n",
       "      <td>0</td>\n",
       "      <td>0</td>\n",
       "      <td>0</td>\n",
       "      <td>0</td>\n",
       "    </tr>\n",
       "    <tr>\n",
       "      <th>3</th>\n",
       "      <td>138467</td>\n",
       "      <td>610599</td>\n",
       "      <td>2017</td>\n",
       "      <td>0</td>\n",
       "      <td>0</td>\n",
       "      <td>0</td>\n",
       "      <td>0</td>\n",
       "      <td>0</td>\n",
       "      <td>0</td>\n",
       "      <td>1</td>\n",
       "      <td>0</td>\n",
       "      <td>0</td>\n",
       "      <td>0</td>\n",
       "      <td>0</td>\n",
       "      <td>0</td>\n",
       "      <td>0</td>\n",
       "      <td>0</td>\n",
       "      <td>0</td>\n",
       "      <td>0</td>\n",
       "      <td>0</td>\n",
       "      <td>0</td>\n",
       "      <td>0</td>\n",
       "      <td>0</td>\n",
       "      <td>0</td>\n",
       "      <td>0</td>\n",
       "      <td>0</td>\n",
       "      <td>0</td>\n",
       "      <td>0</td>\n",
       "      <td>0</td>\n",
       "      <td>0</td>\n",
       "      <td>0</td>\n",
       "      <td>0</td>\n",
       "      <td>0</td>\n",
       "      <td>0</td>\n",
       "      <td>0</td>\n",
       "      <td>1</td>\n",
       "      <td>0</td>\n",
       "      <td>0</td>\n",
       "      <td>0</td>\n",
       "      <td>0</td>\n",
       "      <td>0</td>\n",
       "      <td>0</td>\n",
       "      <td>0</td>\n",
       "      <td>0</td>\n",
       "      <td>0</td>\n",
       "      <td>0</td>\n",
       "      <td>0</td>\n",
       "      <td>0</td>\n",
       "      <td>0</td>\n",
       "      <td>0</td>\n",
       "      <td>0</td>\n",
       "      <td>0</td>\n",
       "      <td>0</td>\n",
       "      <td>0</td>\n",
       "      <td>1</td>\n",
       "      <td>0</td>\n",
       "      <td>0</td>\n",
       "      <td>0</td>\n",
       "      <td>0</td>\n",
       "      <td>0</td>\n",
       "      <td>0</td>\n",
       "      <td>0</td>\n",
       "      <td>0</td>\n",
       "      <td>0</td>\n",
       "      <td>0</td>\n",
       "      <td>0</td>\n",
       "      <td>0</td>\n",
       "      <td>0</td>\n",
       "      <td>0</td>\n",
       "      <td>0</td>\n",
       "      <td>0</td>\n",
       "      <td>0</td>\n",
       "      <td>0</td>\n",
       "      <td>0</td>\n",
       "      <td>0</td>\n",
       "      <td>0</td>\n",
       "      <td>0</td>\n",
       "      <td>0</td>\n",
       "      <td>0</td>\n",
       "      <td>0</td>\n",
       "      <td>0</td>\n",
       "      <td>0</td>\n",
       "      <td>0</td>\n",
       "      <td>0</td>\n",
       "      <td>0</td>\n",
       "      <td>0</td>\n",
       "      <td>0</td>\n",
       "      <td>0</td>\n",
       "      <td>0</td>\n",
       "      <td>0</td>\n",
       "      <td>0</td>\n",
       "      <td>0</td>\n",
       "      <td>0</td>\n",
       "      <td>0</td>\n",
       "      <td>0</td>\n",
       "      <td>0</td>\n",
       "      <td>0</td>\n",
       "      <td>0</td>\n",
       "      <td>0</td>\n",
       "      <td>0</td>\n",
       "      <td>0</td>\n",
       "      <td>0</td>\n",
       "      <td>0</td>\n",
       "      <td>0</td>\n",
       "      <td>0</td>\n",
       "      <td>0</td>\n",
       "      <td>0</td>\n",
       "      <td>0</td>\n",
       "      <td>0</td>\n",
       "      <td>0</td>\n",
       "      <td>0</td>\n",
       "      <td>0</td>\n",
       "      <td>0</td>\n",
       "      <td>0</td>\n",
       "      <td>0</td>\n",
       "      <td>0</td>\n",
       "      <td>0</td>\n",
       "      <td>0</td>\n",
       "      <td>0</td>\n",
       "      <td>0</td>\n",
       "      <td>0</td>\n",
       "      <td>0</td>\n",
       "      <td>1</td>\n",
       "      <td>0</td>\n",
       "      <td>0</td>\n",
       "      <td>0</td>\n",
       "      <td>0</td>\n",
       "      <td>0</td>\n",
       "      <td>0</td>\n",
       "      <td>0</td>\n",
       "      <td>0</td>\n",
       "      <td>0</td>\n",
       "      <td>0</td>\n",
       "      <td>0</td>\n",
       "      <td>0</td>\n",
       "      <td>0</td>\n",
       "      <td>0</td>\n",
       "      <td>0</td>\n",
       "      <td>0</td>\n",
       "      <td>0</td>\n",
       "      <td>0</td>\n",
       "      <td>0</td>\n",
       "      <td>0</td>\n",
       "      <td>0</td>\n",
       "      <td>0</td>\n",
       "      <td>0</td>\n",
       "      <td>0</td>\n",
       "      <td>0</td>\n",
       "      <td>0</td>\n",
       "      <td>0</td>\n",
       "      <td>0</td>\n",
       "      <td>0</td>\n",
       "      <td>0</td>\n",
       "      <td>0</td>\n",
       "      <td>0</td>\n",
       "    </tr>\n",
       "    <tr>\n",
       "      <th>4</th>\n",
       "      <td>9483</td>\n",
       "      <td>615199</td>\n",
       "      <td>2018</td>\n",
       "      <td>1</td>\n",
       "      <td>0</td>\n",
       "      <td>0</td>\n",
       "      <td>0</td>\n",
       "      <td>0</td>\n",
       "      <td>0</td>\n",
       "      <td>0</td>\n",
       "      <td>0</td>\n",
       "      <td>0</td>\n",
       "      <td>1</td>\n",
       "      <td>0</td>\n",
       "      <td>0</td>\n",
       "      <td>0</td>\n",
       "      <td>1</td>\n",
       "      <td>0</td>\n",
       "      <td>0</td>\n",
       "      <td>0</td>\n",
       "      <td>0</td>\n",
       "      <td>0</td>\n",
       "      <td>0</td>\n",
       "      <td>0</td>\n",
       "      <td>0</td>\n",
       "      <td>0</td>\n",
       "      <td>0</td>\n",
       "      <td>0</td>\n",
       "      <td>0</td>\n",
       "      <td>0</td>\n",
       "      <td>0</td>\n",
       "      <td>0</td>\n",
       "      <td>0</td>\n",
       "      <td>0</td>\n",
       "      <td>0</td>\n",
       "      <td>1</td>\n",
       "      <td>0</td>\n",
       "      <td>0</td>\n",
       "      <td>0</td>\n",
       "      <td>0</td>\n",
       "      <td>0</td>\n",
       "      <td>0</td>\n",
       "      <td>0</td>\n",
       "      <td>0</td>\n",
       "      <td>0</td>\n",
       "      <td>0</td>\n",
       "      <td>0</td>\n",
       "      <td>0</td>\n",
       "      <td>0</td>\n",
       "      <td>1</td>\n",
       "      <td>0</td>\n",
       "      <td>0</td>\n",
       "      <td>0</td>\n",
       "      <td>0</td>\n",
       "      <td>0</td>\n",
       "      <td>0</td>\n",
       "      <td>0</td>\n",
       "      <td>0</td>\n",
       "      <td>0</td>\n",
       "      <td>0</td>\n",
       "      <td>0</td>\n",
       "      <td>0</td>\n",
       "      <td>0</td>\n",
       "      <td>0</td>\n",
       "      <td>0</td>\n",
       "      <td>0</td>\n",
       "      <td>0</td>\n",
       "      <td>1</td>\n",
       "      <td>0</td>\n",
       "      <td>0</td>\n",
       "      <td>0</td>\n",
       "      <td>0</td>\n",
       "      <td>0</td>\n",
       "      <td>0</td>\n",
       "      <td>0</td>\n",
       "      <td>0</td>\n",
       "      <td>0</td>\n",
       "      <td>0</td>\n",
       "      <td>0</td>\n",
       "      <td>0</td>\n",
       "      <td>0</td>\n",
       "      <td>0</td>\n",
       "      <td>0</td>\n",
       "      <td>0</td>\n",
       "      <td>0</td>\n",
       "      <td>0</td>\n",
       "      <td>0</td>\n",
       "      <td>0</td>\n",
       "      <td>0</td>\n",
       "      <td>0</td>\n",
       "      <td>0</td>\n",
       "      <td>0</td>\n",
       "      <td>0</td>\n",
       "      <td>0</td>\n",
       "      <td>0</td>\n",
       "      <td>0</td>\n",
       "      <td>0</td>\n",
       "      <td>0</td>\n",
       "      <td>0</td>\n",
       "      <td>0</td>\n",
       "      <td>0</td>\n",
       "      <td>0</td>\n",
       "      <td>0</td>\n",
       "      <td>0</td>\n",
       "      <td>0</td>\n",
       "      <td>0</td>\n",
       "      <td>0</td>\n",
       "      <td>0</td>\n",
       "      <td>0</td>\n",
       "      <td>0</td>\n",
       "      <td>0</td>\n",
       "      <td>0</td>\n",
       "      <td>0</td>\n",
       "      <td>0</td>\n",
       "      <td>0</td>\n",
       "      <td>0</td>\n",
       "      <td>0</td>\n",
       "      <td>0</td>\n",
       "      <td>0</td>\n",
       "      <td>0</td>\n",
       "      <td>0</td>\n",
       "      <td>0</td>\n",
       "      <td>0</td>\n",
       "      <td>0</td>\n",
       "      <td>0</td>\n",
       "      <td>0</td>\n",
       "      <td>0</td>\n",
       "      <td>0</td>\n",
       "      <td>0</td>\n",
       "      <td>0</td>\n",
       "      <td>0</td>\n",
       "      <td>0</td>\n",
       "      <td>0</td>\n",
       "      <td>0</td>\n",
       "      <td>0</td>\n",
       "      <td>0</td>\n",
       "      <td>0</td>\n",
       "      <td>0</td>\n",
       "      <td>0</td>\n",
       "      <td>0</td>\n",
       "      <td>0</td>\n",
       "      <td>0</td>\n",
       "      <td>0</td>\n",
       "      <td>0</td>\n",
       "      <td>0</td>\n",
       "      <td>0</td>\n",
       "      <td>0</td>\n",
       "      <td>0</td>\n",
       "      <td>0</td>\n",
       "      <td>0</td>\n",
       "      <td>0</td>\n",
       "      <td>0</td>\n",
       "      <td>0</td>\n",
       "      <td>0</td>\n",
       "      <td>0</td>\n",
       "    </tr>\n",
       "  </tbody>\n",
       "</table>\n",
       "</div>"
      ],
      "text/plain": [
       "   Mileage   Price  Year  Manual  1.5-2.0 Liter  2.0+ Liter  Basic Diesel  \\\n",
       "0    80605  401599  2015       1              0           0             0   \n",
       "1    82877  281899  2013       1              0           0             0   \n",
       "2    46758  478599  2017       1              0           0             0   \n",
       "3   138467  610599  2017       0              0           0             0   \n",
       "4     9483  615199  2018       1              0           0             0   \n",
       "\n",
       "   Basic Petrol  Middle Petrol  Other  Top Diesel  Top Petrol  2nd Owner  \\\n",
       "0             0              0      1           0           0          0   \n",
       "1             0              0      0           0           0          0   \n",
       "2             0              1      0           0           0          0   \n",
       "3             0              0      1           0           0          0   \n",
       "4             0              0      0           0           0          1   \n",
       "\n",
       "   3rd Owner  4th Owner  5th Owner  Petrol  Petrol + CNG  Petrol + LPG  \\\n",
       "0          0          0          0       0             0             0   \n",
       "1          1          0          0       0             0             0   \n",
       "2          0          0          0       1             0             0   \n",
       "3          0          0          0       0             0             0   \n",
       "4          0          0          0       1             0             0   \n",
       "\n",
       "   Bengaluru  Bhopal  Chandigarh  Chennai  Delhi  Hyderabad  Jaipur  Kolkata  \\\n",
       "0          0       0           0        0      0          0       0        0   \n",
       "1          0       0           0        0      0          0       0        0   \n",
       "2          0       0           0        0      0          0       0        0   \n",
       "3          0       0           0        0      0          0       0        0   \n",
       "4          0       0           0        0      0          0       0        0   \n",
       "\n",
       "   Ludhiana  Meerut  Mumbai  Mysore  Nasik  Panipat  Pune  Rajkot  Rohtak  \\\n",
       "0         0       0       0       0      0        0     0       0       1   \n",
       "1         0       0       0       0      0        0     0       0       1   \n",
       "2         0       0       0       0      0        0     0       0       1   \n",
       "3         0       0       0       0      0        0     0       0       1   \n",
       "4         0       0       0       0      0        0     0       0       1   \n",
       "\n",
       "   Surat  BMW  Chevrolet  Datsun  Fiat  Ford  HYUNDAI  Honda  Hyundai  Jeep  \\\n",
       "0      0    0          0       0     0     0        0      0        0     0   \n",
       "1      0    0          0       0     0     0        0      1        0     0   \n",
       "2      0    0          0       0     0     0        0      0        0     0   \n",
       "3      0    0          0       0     0     0        0      0        0     0   \n",
       "4      0    0          0       0     0     0        0      0        0     0   \n",
       "\n",
       "   KIA  MG  Mahindra  Maruti  Mercedes  Nissan  RENAULT  Renault  Skoda  \\\n",
       "0    0   0         0       0         0       0        0        0      0   \n",
       "1    0   0         0       0         0       0        0        0      0   \n",
       "2    0   0         0       1         0       0        0        0      0   \n",
       "3    0   0         0       0         0       0        0        0      1   \n",
       "4    0   0         0       1         0       0        0        0      0   \n",
       "\n",
       "   Ssangyong  Tata  Toyota  Volkswagen  5  A3  ALTROZ  AURA  Alto  Amaze  \\\n",
       "0          0     0       1           0  0   0       0     0     0      0   \n",
       "1          0     0       0           0  0   0       0     0     0      1   \n",
       "2          0     0       0           0  0   0       0     0     0      0   \n",
       "3          0     0       0           0  0   0       0     0     0      0   \n",
       "4          0     0       0           0  0   0       0     0     0      0   \n",
       "\n",
       "   Ameo  BR-V  Baleno  Beat  Benz  Bolero  Brio  CRV  Camry  Captur  Celerio  \\\n",
       "0     0     0       0     0     0       0     0    0      0       0        0   \n",
       "1     0     0       0     0     0       0     0    0      0       0        0   \n",
       "2     0     0       0     0     0       0     0    0      0       0        0   \n",
       "3     0     0       0     0     0       0     0    0      0       0        0   \n",
       "4     0     0       1     0     0       0     0    0      0       0        0   \n",
       "\n",
       "   Ciaz  City  Civic  Compass  Corolla  Creta  Duster  Dzire  Ecosport  Eeco  \\\n",
       "0     0     0      0        0        0      0       0      0         0     0   \n",
       "1     0     0      0        0        0      0       0      0         0     0   \n",
       "2     0     0      0        0        0      0       0      0         0     0   \n",
       "3     0     0      0        0        0      0       0      0         0     0   \n",
       "4     0     0      0        0        0      0       0      0         0     0   \n",
       "\n",
       "   Elite  Endeavour  Eon  Ertiga  Etios  FREESTYLE  Figo  Fortuner  GRAND  \\\n",
       "0      0          0    0       0      1          0     0         0      0   \n",
       "1      0          0    0       0      0          0     0         0      0   \n",
       "2      0          0    0       0      0          0     0         0      0   \n",
       "3      0          0    0       0      0          0     0         0      0   \n",
       "4      0          0    0       0      0          0     0         0      0   \n",
       "\n",
       "   Glanza  Go  Grand  HECTOR  Harrier  Hexa  IGNIS  Indica  Innova  Jazz  \\\n",
       "0       0   0      0       0        0     0      0       0       0     0   \n",
       "1       0   0      0       0        0     0      0       0       0     0   \n",
       "2       0   0      0       0        0     0      0       0       0     0   \n",
       "3       0   0      0       0        0     0      0       0       0     0   \n",
       "4       0   0      0       0        0     0      0       0       0     0   \n",
       "\n",
       "   Jetta  KAROQ  KUV  Kiger  Kuv100  Kwid  Linea  Lodgy  Micra  Mobilio  NEW  \\\n",
       "0      0      0    0      0       0     0      0      0      0        0    0   \n",
       "1      0      0    0      0       0     0      0      0      0        0    0   \n",
       "2      0      0    0      0       0     0      0      0      0        0    0   \n",
       "3      0      0    0      0       0     0      0      0      0        0    0   \n",
       "4      0      0    0      0       0     0      0      0      0        0    0   \n",
       "\n",
       "   NEXON  Nano  New  OMNI  Octavia  Polo  Rapid  Redi  Rexton  Ritz  S  \\\n",
       "0      0     0    0     0        0     0      0     0       0     0  0   \n",
       "1      0     0    0     0        0     0      0     0       0     0  0   \n",
       "2      0     0    0     0        0     0      0     0       0     0  0   \n",
       "3      0     0    0     0        0     0      1     0       0     0  0   \n",
       "4      0     0    0     0        0     0      0     0       0     0  0   \n",
       "\n",
       "   SELTOS  Santro  Scorpio  Sunny  Superb  Swift  TIGOR  TRIBER  TUV300  \\\n",
       "0       0       0        0      0       0      0      0       0       0   \n",
       "1       0       0        0      0       0      0      0       0       0   \n",
       "2       0       0        0      0       0      1      0       0       0   \n",
       "3       0       0        0      0       0      0      0       0       0   \n",
       "4       0       0        0      0       0      0      0       0       0   \n",
       "\n",
       "   Terrano  Thar  Tiago  Tucson  VENUE  Vento  Verna  Vitara  WR-V  Wagon  X1  \\\n",
       "0        0     0      0       0      0      0      0       0     0      0   0   \n",
       "1        0     0      0       0      0      0      0       0     0      0   0   \n",
       "2        0     0      0       0      0      0      0       0     0      0   0   \n",
       "3        0     0      0       0      0      0      0       0     0      0   0   \n",
       "4        0     0      0       0      0      0      0       0     0      0   0   \n",
       "\n",
       "   XL6  XUV  XUV500  Xcent  YARIS  Zen  i10  i20  \n",
       "0    0    0       0      0      0    0    0    0  \n",
       "1    0    0       0      0      0    0    0    0  \n",
       "2    0    0       0      0      0    0    0    0  \n",
       "3    0    0       0      0      0    0    0    0  \n",
       "4    0    0       0      0      0    0    0    0  "
      ]
     },
     "execution_count": 59,
     "metadata": {},
     "output_type": "execute_result"
    }
   ],
   "source": [
    "df.head() # Dummy variables have been created"
   ]
  },
  {
   "cell_type": "code",
   "execution_count": 60,
   "metadata": {},
   "outputs": [
    {
     "data": {
      "text/plain": [
       "(4000, 155)"
      ]
     },
     "execution_count": 60,
     "metadata": {},
     "output_type": "execute_result"
    }
   ],
   "source": [
    "df.shape # We have 5339 rows, and 157 coulmns after creating dummy variables"
   ]
  },
  {
   "cell_type": "code",
   "execution_count": 61,
   "metadata": {},
   "outputs": [
    {
     "name": "stdout",
     "output_type": "stream",
     "text": [
      "Skew of Pirce: 2.1661814876951664\n"
     ]
    },
    {
     "data": {
      "image/png": "[encoded data removed]",
      "text/plain": [
       "<Figure size 360x360 with 1 Axes>"
      ]
     },
     "metadata": {
      "needs_background": "light"
     },
     "output_type": "display_data"
    }
   ],
   "source": [
    "fig = plt.figure(figsize=(5,5))\n",
    "\n",
    "print (\"Skew of Pirce:\", df.Price.skew())\n",
    "plt.hist(df.Price,  color='red')\n",
    "plt.show() # Checking skew of target variable"
   ]
  },
  {
   "cell_type": "code",
   "execution_count": 62,
   "metadata": {},
   "outputs": [
    {
     "name": "stdout",
     "output_type": "stream",
     "text": [
      "Skew of Log-Transformed Price: 0.4072452747180472\n"
     ]
    },
    {
     "data": {
      "image/png": "[encoded data removed]",
      "text/plain": [
       "<Figure size 360x360 with 1 Axes>"
      ]
     },
     "metadata": {
      "needs_background": "light"
     },
     "output_type": "display_data"
    }
   ],
   "source": [
    "fig = plt.figure(figsize=(5,5))\n",
    "\n",
    "print (\"Skew of Log-Transformed Price:\", np.log1p(df.Price).skew())\n",
    "plt.hist(np.log1p(df.Price), color='green')\n",
    "plt.show() # Fixing the skew by taking log"
   ]
  },
  {
   "cell_type": "code",
   "execution_count": 63,
   "metadata": {},
   "outputs": [
    {
     "name": "stdout",
     "output_type": "stream",
     "text": [
      "Skew of Mileage 6.976083944496797\n"
     ]
    },
    {
     "data": {
      "image/png": "[encoded data removed]",
      "text/plain": [
       "<Figure size 360x360 with 1 Axes>"
      ]
     },
     "metadata": {
      "needs_background": "light"
     },
     "output_type": "display_data"
    }
   ],
   "source": [
    "fig = plt.figure(figsize=(5,5))\n",
    "\n",
    "print (\"Skew of Mileage\", df.Mileage.skew())\n",
    "plt.hist(df.Mileage,  color='red')\n",
    "plt.show() # Checking skew of variable"
   ]
  },
  {
   "cell_type": "code",
   "execution_count": 64,
   "metadata": {},
   "outputs": [
    {
     "name": "stdout",
     "output_type": "stream",
     "text": [
      "Skew of Log-Transformed Mileage -0.8403177869701066\n"
     ]
    },
    {
     "data": {
      "image/png": "[encoded data removed]",
      "text/plain": [
       "<Figure size 360x360 with 1 Axes>"
      ]
     },
     "metadata": {
      "needs_background": "light"
     },
     "output_type": "display_data"
    }
   ],
   "source": [
    "fig = plt.figure(figsize=(5,5))\n",
    "\n",
    "print (\"Skew of Log-Transformed Mileage\", np.log1p(df.Mileage).skew())\n",
    "plt.hist(np.log1p(df.Mileage), color='green')\n",
    "plt.show() # Reducting the skew by taking log"
   ]
  },
  {
   "cell_type": "markdown",
   "metadata": {},
   "source": [
    "### Model building phase"
   ]
  },
  {
   "cell_type": "code",
   "execution_count": 65,
   "metadata": {},
   "outputs": [],
   "source": [
    "from sklearn.model_selection import train_test_split\n",
    "from sklearn.linear_model import LogisticRegression\n",
    "from sklearn.tree import DecisionTreeRegressor\n",
    "from sklearn import linear_model\n",
    "from sklearn.linear_model import LinearRegression\n",
    "from sklearn.ensemble import RandomForestRegressor\n",
    "from sklearn.svm import SVR\n",
    "from sklearn.model_selection import cross_val_score, cross_val_predict\n",
    "import sklearn.metrics as sm\n",
    "from math import e\n",
    "# Importing useful libraries"
   ]
  },
  {
   "cell_type": "code",
   "execution_count": 66,
   "metadata": {},
   "outputs": [
    {
     "data": {
      "text/html": [
       "<div>\n",
       "<style scoped>\n",
       "    .dataframe tbody tr th:only-of-type {\n",
       "        vertical-align: middle;\n",
       "    }\n",
       "\n",
       "    .dataframe tbody tr th {\n",
       "        vertical-align: top;\n",
       "    }\n",
       "\n",
       "    .dataframe thead th {\n",
       "        text-align: right;\n",
       "    }\n",
       "</style>\n",
       "<table border=\"1\" class=\"dataframe\">\n",
       "  <thead>\n",
       "    <tr style=\"text-align: right;\">\n",
       "      <th></th>\n",
       "      <th>Mileage</th>\n",
       "      <th>Price</th>\n",
       "      <th>Year</th>\n",
       "      <th>Manual</th>\n",
       "      <th>1.5-2.0 Liter</th>\n",
       "      <th>2.0+ Liter</th>\n",
       "      <th>Basic Diesel</th>\n",
       "      <th>Basic Petrol</th>\n",
       "      <th>Middle Petrol</th>\n",
       "      <th>Other</th>\n",
       "      <th>Top Diesel</th>\n",
       "      <th>Top Petrol</th>\n",
       "      <th>2nd Owner</th>\n",
       "      <th>3rd Owner</th>\n",
       "      <th>4th Owner</th>\n",
       "      <th>5th Owner</th>\n",
       "      <th>Petrol</th>\n",
       "      <th>Petrol + CNG</th>\n",
       "      <th>Petrol + LPG</th>\n",
       "      <th>Bengaluru</th>\n",
       "      <th>Bhopal</th>\n",
       "      <th>Chandigarh</th>\n",
       "      <th>Chennai</th>\n",
       "      <th>Delhi</th>\n",
       "      <th>Hyderabad</th>\n",
       "      <th>Jaipur</th>\n",
       "      <th>Kolkata</th>\n",
       "      <th>Ludhiana</th>\n",
       "      <th>Meerut</th>\n",
       "      <th>Mumbai</th>\n",
       "      <th>Mysore</th>\n",
       "      <th>Nasik</th>\n",
       "      <th>Panipat</th>\n",
       "      <th>Pune</th>\n",
       "      <th>Rajkot</th>\n",
       "      <th>Rohtak</th>\n",
       "      <th>Surat</th>\n",
       "      <th>BMW</th>\n",
       "      <th>Chevrolet</th>\n",
       "      <th>Datsun</th>\n",
       "      <th>Fiat</th>\n",
       "      <th>Ford</th>\n",
       "      <th>HYUNDAI</th>\n",
       "      <th>Honda</th>\n",
       "      <th>Hyundai</th>\n",
       "      <th>Jeep</th>\n",
       "      <th>KIA</th>\n",
       "      <th>MG</th>\n",
       "      <th>Mahindra</th>\n",
       "      <th>Maruti</th>\n",
       "      <th>Mercedes</th>\n",
       "      <th>Nissan</th>\n",
       "      <th>RENAULT</th>\n",
       "      <th>Renault</th>\n",
       "      <th>Skoda</th>\n",
       "      <th>Ssangyong</th>\n",
       "      <th>Tata</th>\n",
       "      <th>Toyota</th>\n",
       "      <th>Volkswagen</th>\n",
       "      <th>5</th>\n",
       "      <th>A3</th>\n",
       "      <th>ALTROZ</th>\n",
       "      <th>AURA</th>\n",
       "      <th>Alto</th>\n",
       "      <th>Amaze</th>\n",
       "      <th>Ameo</th>\n",
       "      <th>BR-V</th>\n",
       "      <th>Baleno</th>\n",
       "      <th>Beat</th>\n",
       "      <th>Benz</th>\n",
       "      <th>Bolero</th>\n",
       "      <th>Brio</th>\n",
       "      <th>CRV</th>\n",
       "      <th>Camry</th>\n",
       "      <th>Captur</th>\n",
       "      <th>Celerio</th>\n",
       "      <th>Ciaz</th>\n",
       "      <th>City</th>\n",
       "      <th>Civic</th>\n",
       "      <th>Compass</th>\n",
       "      <th>Corolla</th>\n",
       "      <th>Creta</th>\n",
       "      <th>Duster</th>\n",
       "      <th>Dzire</th>\n",
       "      <th>Ecosport</th>\n",
       "      <th>Eeco</th>\n",
       "      <th>Elite</th>\n",
       "      <th>Endeavour</th>\n",
       "      <th>Eon</th>\n",
       "      <th>Ertiga</th>\n",
       "      <th>Etios</th>\n",
       "      <th>FREESTYLE</th>\n",
       "      <th>Figo</th>\n",
       "      <th>Fortuner</th>\n",
       "      <th>GRAND</th>\n",
       "      <th>Glanza</th>\n",
       "      <th>Go</th>\n",
       "      <th>Grand</th>\n",
       "      <th>HECTOR</th>\n",
       "      <th>Harrier</th>\n",
       "      <th>Hexa</th>\n",
       "      <th>IGNIS</th>\n",
       "      <th>Indica</th>\n",
       "      <th>Innova</th>\n",
       "      <th>Jazz</th>\n",
       "      <th>Jetta</th>\n",
       "      <th>KAROQ</th>\n",
       "      <th>KUV</th>\n",
       "      <th>Kiger</th>\n",
       "      <th>Kuv100</th>\n",
       "      <th>Kwid</th>\n",
       "      <th>Linea</th>\n",
       "      <th>Lodgy</th>\n",
       "      <th>Micra</th>\n",
       "      <th>Mobilio</th>\n",
       "      <th>NEW</th>\n",
       "      <th>NEXON</th>\n",
       "      <th>Nano</th>\n",
       "      <th>New</th>\n",
       "      <th>OMNI</th>\n",
       "      <th>Octavia</th>\n",
       "      <th>Polo</th>\n",
       "      <th>Rapid</th>\n",
       "      <th>Redi</th>\n",
       "      <th>Rexton</th>\n",
       "      <th>Ritz</th>\n",
       "      <th>S</th>\n",
       "      <th>SELTOS</th>\n",
       "      <th>Santro</th>\n",
       "      <th>Scorpio</th>\n",
       "      <th>Sunny</th>\n",
       "      <th>Superb</th>\n",
       "      <th>Swift</th>\n",
       "      <th>TIGOR</th>\n",
       "      <th>TRIBER</th>\n",
       "      <th>TUV300</th>\n",
       "      <th>Terrano</th>\n",
       "      <th>Thar</th>\n",
       "      <th>Tiago</th>\n",
       "      <th>Tucson</th>\n",
       "      <th>VENUE</th>\n",
       "      <th>Vento</th>\n",
       "      <th>Verna</th>\n",
       "      <th>Vitara</th>\n",
       "      <th>WR-V</th>\n",
       "      <th>Wagon</th>\n",
       "      <th>X1</th>\n",
       "      <th>XL6</th>\n",
       "      <th>XUV</th>\n",
       "      <th>XUV500</th>\n",
       "      <th>Xcent</th>\n",
       "      <th>YARIS</th>\n",
       "      <th>Zen</th>\n",
       "      <th>i10</th>\n",
       "      <th>i20</th>\n",
       "    </tr>\n",
       "  </thead>\n",
       "  <tbody>\n",
       "    <tr>\n",
       "      <th>0</th>\n",
       "      <td>80605</td>\n",
       "      <td>401599</td>\n",
       "      <td>2015</td>\n",
       "      <td>1</td>\n",
       "      <td>0</td>\n",
       "      <td>0</td>\n",
       "      <td>0</td>\n",
       "      <td>0</td>\n",
       "      <td>0</td>\n",
       "      <td>1</td>\n",
       "      <td>0</td>\n",
       "      <td>0</td>\n",
       "      <td>0</td>\n",
       "      <td>0</td>\n",
       "      <td>0</td>\n",
       "      <td>0</td>\n",
       "      <td>0</td>\n",
       "      <td>0</td>\n",
       "      <td>0</td>\n",
       "      <td>0</td>\n",
       "      <td>0</td>\n",
       "      <td>0</td>\n",
       "      <td>0</td>\n",
       "      <td>0</td>\n",
       "      <td>0</td>\n",
       "      <td>0</td>\n",
       "      <td>0</td>\n",
       "      <td>0</td>\n",
       "      <td>0</td>\n",
       "      <td>0</td>\n",
       "      <td>0</td>\n",
       "      <td>0</td>\n",
       "      <td>0</td>\n",
       "      <td>0</td>\n",
       "      <td>0</td>\n",
       "      <td>1</td>\n",
       "      <td>0</td>\n",
       "      <td>0</td>\n",
       "      <td>0</td>\n",
       "      <td>0</td>\n",
       "      <td>0</td>\n",
       "      <td>0</td>\n",
       "      <td>0</td>\n",
       "      <td>0</td>\n",
       "      <td>0</td>\n",
       "      <td>0</td>\n",
       "      <td>0</td>\n",
       "      <td>0</td>\n",
       "      <td>0</td>\n",
       "      <td>0</td>\n",
       "      <td>0</td>\n",
       "      <td>0</td>\n",
       "      <td>0</td>\n",
       "      <td>0</td>\n",
       "      <td>0</td>\n",
       "      <td>0</td>\n",
       "      <td>0</td>\n",
       "      <td>1</td>\n",
       "      <td>0</td>\n",
       "      <td>0</td>\n",
       "      <td>0</td>\n",
       "      <td>0</td>\n",
       "      <td>0</td>\n",
       "      <td>0</td>\n",
       "      <td>0</td>\n",
       "      <td>0</td>\n",
       "      <td>0</td>\n",
       "      <td>0</td>\n",
       "      <td>0</td>\n",
       "      <td>0</td>\n",
       "      <td>0</td>\n",
       "      <td>0</td>\n",
       "      <td>0</td>\n",
       "      <td>0</td>\n",
       "      <td>0</td>\n",
       "      <td>0</td>\n",
       "      <td>0</td>\n",
       "      <td>0</td>\n",
       "      <td>0</td>\n",
       "      <td>0</td>\n",
       "      <td>0</td>\n",
       "      <td>0</td>\n",
       "      <td>0</td>\n",
       "      <td>0</td>\n",
       "      <td>0</td>\n",
       "      <td>0</td>\n",
       "      <td>0</td>\n",
       "      <td>0</td>\n",
       "      <td>0</td>\n",
       "      <td>0</td>\n",
       "      <td>1</td>\n",
       "      <td>0</td>\n",
       "      <td>0</td>\n",
       "      <td>0</td>\n",
       "      <td>0</td>\n",
       "      <td>0</td>\n",
       "      <td>0</td>\n",
       "      <td>0</td>\n",
       "      <td>0</td>\n",
       "      <td>0</td>\n",
       "      <td>0</td>\n",
       "      <td>0</td>\n",
       "      <td>0</td>\n",
       "      <td>0</td>\n",
       "      <td>0</td>\n",
       "      <td>0</td>\n",
       "      <td>0</td>\n",
       "      <td>0</td>\n",
       "      <td>0</td>\n",
       "      <td>0</td>\n",
       "      <td>0</td>\n",
       "      <td>0</td>\n",
       "      <td>0</td>\n",
       "      <td>0</td>\n",
       "      <td>0</td>\n",
       "      <td>0</td>\n",
       "      <td>0</td>\n",
       "      <td>0</td>\n",
       "      <td>0</td>\n",
       "      <td>0</td>\n",
       "      <td>0</td>\n",
       "      <td>0</td>\n",
       "      <td>0</td>\n",
       "      <td>0</td>\n",
       "      <td>0</td>\n",
       "      <td>0</td>\n",
       "      <td>0</td>\n",
       "      <td>0</td>\n",
       "      <td>0</td>\n",
       "      <td>0</td>\n",
       "      <td>0</td>\n",
       "      <td>0</td>\n",
       "      <td>0</td>\n",
       "      <td>0</td>\n",
       "      <td>0</td>\n",
       "      <td>0</td>\n",
       "      <td>0</td>\n",
       "      <td>0</td>\n",
       "      <td>0</td>\n",
       "      <td>0</td>\n",
       "      <td>0</td>\n",
       "      <td>0</td>\n",
       "      <td>0</td>\n",
       "      <td>0</td>\n",
       "      <td>0</td>\n",
       "      <td>0</td>\n",
       "      <td>0</td>\n",
       "      <td>0</td>\n",
       "      <td>0</td>\n",
       "      <td>0</td>\n",
       "      <td>0</td>\n",
       "      <td>0</td>\n",
       "      <td>0</td>\n",
       "      <td>0</td>\n",
       "      <td>0</td>\n",
       "    </tr>\n",
       "    <tr>\n",
       "      <th>1</th>\n",
       "      <td>82877</td>\n",
       "      <td>281899</td>\n",
       "      <td>2013</td>\n",
       "      <td>1</td>\n",
       "      <td>0</td>\n",
       "      <td>0</td>\n",
       "      <td>0</td>\n",
       "      <td>0</td>\n",
       "      <td>0</td>\n",
       "      <td>0</td>\n",
       "      <td>0</td>\n",
       "      <td>0</td>\n",
       "      <td>0</td>\n",
       "      <td>1</td>\n",
       "      <td>0</td>\n",
       "      <td>0</td>\n",
       "      <td>0</td>\n",
       "      <td>0</td>\n",
       "      <td>0</td>\n",
       "      <td>0</td>\n",
       "      <td>0</td>\n",
       "      <td>0</td>\n",
       "      <td>0</td>\n",
       "      <td>0</td>\n",
       "      <td>0</td>\n",
       "      <td>0</td>\n",
       "      <td>0</td>\n",
       "      <td>0</td>\n",
       "      <td>0</td>\n",
       "      <td>0</td>\n",
       "      <td>0</td>\n",
       "      <td>0</td>\n",
       "      <td>0</td>\n",
       "      <td>0</td>\n",
       "      <td>0</td>\n",
       "      <td>1</td>\n",
       "      <td>0</td>\n",
       "      <td>0</td>\n",
       "      <td>0</td>\n",
       "      <td>0</td>\n",
       "      <td>0</td>\n",
       "      <td>0</td>\n",
       "      <td>0</td>\n",
       "      <td>1</td>\n",
       "      <td>0</td>\n",
       "      <td>0</td>\n",
       "      <td>0</td>\n",
       "      <td>0</td>\n",
       "      <td>0</td>\n",
       "      <td>0</td>\n",
       "      <td>0</td>\n",
       "      <td>0</td>\n",
       "      <td>0</td>\n",
       "      <td>0</td>\n",
       "      <td>0</td>\n",
       "      <td>0</td>\n",
       "      <td>0</td>\n",
       "      <td>0</td>\n",
       "      <td>0</td>\n",
       "      <td>0</td>\n",
       "      <td>0</td>\n",
       "      <td>0</td>\n",
       "      <td>0</td>\n",
       "      <td>0</td>\n",
       "      <td>1</td>\n",
       "      <td>0</td>\n",
       "      <td>0</td>\n",
       "      <td>0</td>\n",
       "      <td>0</td>\n",
       "      <td>0</td>\n",
       "      <td>0</td>\n",
       "      <td>0</td>\n",
       "      <td>0</td>\n",
       "      <td>0</td>\n",
       "      <td>0</td>\n",
       "      <td>0</td>\n",
       "      <td>0</td>\n",
       "      <td>0</td>\n",
       "      <td>0</td>\n",
       "      <td>0</td>\n",
       "      <td>0</td>\n",
       "      <td>0</td>\n",
       "      <td>0</td>\n",
       "      <td>0</td>\n",
       "      <td>0</td>\n",
       "      <td>0</td>\n",
       "      <td>0</td>\n",
       "      <td>0</td>\n",
       "      <td>0</td>\n",
       "      <td>0</td>\n",
       "      <td>0</td>\n",
       "      <td>0</td>\n",
       "      <td>0</td>\n",
       "      <td>0</td>\n",
       "      <td>0</td>\n",
       "      <td>0</td>\n",
       "      <td>0</td>\n",
       "      <td>0</td>\n",
       "      <td>0</td>\n",
       "      <td>0</td>\n",
       "      <td>0</td>\n",
       "      <td>0</td>\n",
       "      <td>0</td>\n",
       "      <td>0</td>\n",
       "      <td>0</td>\n",
       "      <td>0</td>\n",
       "      <td>0</td>\n",
       "      <td>0</td>\n",
       "      <td>0</td>\n",
       "      <td>0</td>\n",
       "      <td>0</td>\n",
       "      <td>0</td>\n",
       "      <td>0</td>\n",
       "      <td>0</td>\n",
       "      <td>0</td>\n",
       "      <td>0</td>\n",
       "      <td>0</td>\n",
       "      <td>0</td>\n",
       "      <td>0</td>\n",
       "      <td>0</td>\n",
       "      <td>0</td>\n",
       "      <td>0</td>\n",
       "      <td>0</td>\n",
       "      <td>0</td>\n",
       "      <td>0</td>\n",
       "      <td>0</td>\n",
       "      <td>0</td>\n",
       "      <td>0</td>\n",
       "      <td>0</td>\n",
       "      <td>0</td>\n",
       "      <td>0</td>\n",
       "      <td>0</td>\n",
       "      <td>0</td>\n",
       "      <td>0</td>\n",
       "      <td>0</td>\n",
       "      <td>0</td>\n",
       "      <td>0</td>\n",
       "      <td>0</td>\n",
       "      <td>0</td>\n",
       "      <td>0</td>\n",
       "      <td>0</td>\n",
       "      <td>0</td>\n",
       "      <td>0</td>\n",
       "      <td>0</td>\n",
       "      <td>0</td>\n",
       "      <td>0</td>\n",
       "      <td>0</td>\n",
       "      <td>0</td>\n",
       "      <td>0</td>\n",
       "      <td>0</td>\n",
       "      <td>0</td>\n",
       "      <td>0</td>\n",
       "      <td>0</td>\n",
       "      <td>0</td>\n",
       "      <td>0</td>\n",
       "    </tr>\n",
       "    <tr>\n",
       "      <th>2</th>\n",
       "      <td>46758</td>\n",
       "      <td>478599</td>\n",
       "      <td>2017</td>\n",
       "      <td>1</td>\n",
       "      <td>0</td>\n",
       "      <td>0</td>\n",
       "      <td>0</td>\n",
       "      <td>0</td>\n",
       "      <td>1</td>\n",
       "      <td>0</td>\n",
       "      <td>0</td>\n",
       "      <td>0</td>\n",
       "      <td>0</td>\n",
       "      <td>0</td>\n",
       "      <td>0</td>\n",
       "      <td>0</td>\n",
       "      <td>1</td>\n",
       "      <td>0</td>\n",
       "      <td>0</td>\n",
       "      <td>0</td>\n",
       "      <td>0</td>\n",
       "      <td>0</td>\n",
       "      <td>0</td>\n",
       "      <td>0</td>\n",
       "      <td>0</td>\n",
       "      <td>0</td>\n",
       "      <td>0</td>\n",
       "      <td>0</td>\n",
       "      <td>0</td>\n",
       "      <td>0</td>\n",
       "      <td>0</td>\n",
       "      <td>0</td>\n",
       "      <td>0</td>\n",
       "      <td>0</td>\n",
       "      <td>0</td>\n",
       "      <td>1</td>\n",
       "      <td>0</td>\n",
       "      <td>0</td>\n",
       "      <td>0</td>\n",
       "      <td>0</td>\n",
       "      <td>0</td>\n",
       "      <td>0</td>\n",
       "      <td>0</td>\n",
       "      <td>0</td>\n",
       "      <td>0</td>\n",
       "      <td>0</td>\n",
       "      <td>0</td>\n",
       "      <td>0</td>\n",
       "      <td>0</td>\n",
       "      <td>1</td>\n",
       "      <td>0</td>\n",
       "      <td>0</td>\n",
       "      <td>0</td>\n",
       "      <td>0</td>\n",
       "      <td>0</td>\n",
       "      <td>0</td>\n",
       "      <td>0</td>\n",
       "      <td>0</td>\n",
       "      <td>0</td>\n",
       "      <td>0</td>\n",
       "      <td>0</td>\n",
       "      <td>0</td>\n",
       "      <td>0</td>\n",
       "      <td>0</td>\n",
       "      <td>0</td>\n",
       "      <td>0</td>\n",
       "      <td>0</td>\n",
       "      <td>0</td>\n",
       "      <td>0</td>\n",
       "      <td>0</td>\n",
       "      <td>0</td>\n",
       "      <td>0</td>\n",
       "      <td>0</td>\n",
       "      <td>0</td>\n",
       "      <td>0</td>\n",
       "      <td>0</td>\n",
       "      <td>0</td>\n",
       "      <td>0</td>\n",
       "      <td>0</td>\n",
       "      <td>0</td>\n",
       "      <td>0</td>\n",
       "      <td>0</td>\n",
       "      <td>0</td>\n",
       "      <td>0</td>\n",
       "      <td>0</td>\n",
       "      <td>0</td>\n",
       "      <td>0</td>\n",
       "      <td>0</td>\n",
       "      <td>0</td>\n",
       "      <td>0</td>\n",
       "      <td>0</td>\n",
       "      <td>0</td>\n",
       "      <td>0</td>\n",
       "      <td>0</td>\n",
       "      <td>0</td>\n",
       "      <td>0</td>\n",
       "      <td>0</td>\n",
       "      <td>0</td>\n",
       "      <td>0</td>\n",
       "      <td>0</td>\n",
       "      <td>0</td>\n",
       "      <td>0</td>\n",
       "      <td>0</td>\n",
       "      <td>0</td>\n",
       "      <td>0</td>\n",
       "      <td>0</td>\n",
       "      <td>0</td>\n",
       "      <td>0</td>\n",
       "      <td>0</td>\n",
       "      <td>0</td>\n",
       "      <td>0</td>\n",
       "      <td>0</td>\n",
       "      <td>0</td>\n",
       "      <td>0</td>\n",
       "      <td>0</td>\n",
       "      <td>0</td>\n",
       "      <td>0</td>\n",
       "      <td>0</td>\n",
       "      <td>0</td>\n",
       "      <td>0</td>\n",
       "      <td>0</td>\n",
       "      <td>0</td>\n",
       "      <td>0</td>\n",
       "      <td>0</td>\n",
       "      <td>0</td>\n",
       "      <td>0</td>\n",
       "      <td>0</td>\n",
       "      <td>0</td>\n",
       "      <td>0</td>\n",
       "      <td>0</td>\n",
       "      <td>0</td>\n",
       "      <td>0</td>\n",
       "      <td>1</td>\n",
       "      <td>0</td>\n",
       "      <td>0</td>\n",
       "      <td>0</td>\n",
       "      <td>0</td>\n",
       "      <td>0</td>\n",
       "      <td>0</td>\n",
       "      <td>0</td>\n",
       "      <td>0</td>\n",
       "      <td>0</td>\n",
       "      <td>0</td>\n",
       "      <td>0</td>\n",
       "      <td>0</td>\n",
       "      <td>0</td>\n",
       "      <td>0</td>\n",
       "      <td>0</td>\n",
       "      <td>0</td>\n",
       "      <td>0</td>\n",
       "      <td>0</td>\n",
       "      <td>0</td>\n",
       "      <td>0</td>\n",
       "      <td>0</td>\n",
       "      <td>0</td>\n",
       "    </tr>\n",
       "    <tr>\n",
       "      <th>3</th>\n",
       "      <td>138467</td>\n",
       "      <td>610599</td>\n",
       "      <td>2017</td>\n",
       "      <td>0</td>\n",
       "      <td>0</td>\n",
       "      <td>0</td>\n",
       "      <td>0</td>\n",
       "      <td>0</td>\n",
       "      <td>0</td>\n",
       "      <td>1</td>\n",
       "      <td>0</td>\n",
       "      <td>0</td>\n",
       "      <td>0</td>\n",
       "      <td>0</td>\n",
       "      <td>0</td>\n",
       "      <td>0</td>\n",
       "      <td>0</td>\n",
       "      <td>0</td>\n",
       "      <td>0</td>\n",
       "      <td>0</td>\n",
       "      <td>0</td>\n",
       "      <td>0</td>\n",
       "      <td>0</td>\n",
       "      <td>0</td>\n",
       "      <td>0</td>\n",
       "      <td>0</td>\n",
       "      <td>0</td>\n",
       "      <td>0</td>\n",
       "      <td>0</td>\n",
       "      <td>0</td>\n",
       "      <td>0</td>\n",
       "      <td>0</td>\n",
       "      <td>0</td>\n",
       "      <td>0</td>\n",
       "      <td>0</td>\n",
       "      <td>1</td>\n",
       "      <td>0</td>\n",
       "      <td>0</td>\n",
       "      <td>0</td>\n",
       "      <td>0</td>\n",
       "      <td>0</td>\n",
       "      <td>0</td>\n",
       "      <td>0</td>\n",
       "      <td>0</td>\n",
       "      <td>0</td>\n",
       "      <td>0</td>\n",
       "      <td>0</td>\n",
       "      <td>0</td>\n",
       "      <td>0</td>\n",
       "      <td>0</td>\n",
       "      <td>0</td>\n",
       "      <td>0</td>\n",
       "      <td>0</td>\n",
       "      <td>0</td>\n",
       "      <td>1</td>\n",
       "      <td>0</td>\n",
       "      <td>0</td>\n",
       "      <td>0</td>\n",
       "      <td>0</td>\n",
       "      <td>0</td>\n",
       "      <td>0</td>\n",
       "      <td>0</td>\n",
       "      <td>0</td>\n",
       "      <td>0</td>\n",
       "      <td>0</td>\n",
       "      <td>0</td>\n",
       "      <td>0</td>\n",
       "      <td>0</td>\n",
       "      <td>0</td>\n",
       "      <td>0</td>\n",
       "      <td>0</td>\n",
       "      <td>0</td>\n",
       "      <td>0</td>\n",
       "      <td>0</td>\n",
       "      <td>0</td>\n",
       "      <td>0</td>\n",
       "      <td>0</td>\n",
       "      <td>0</td>\n",
       "      <td>0</td>\n",
       "      <td>0</td>\n",
       "      <td>0</td>\n",
       "      <td>0</td>\n",
       "      <td>0</td>\n",
       "      <td>0</td>\n",
       "      <td>0</td>\n",
       "      <td>0</td>\n",
       "      <td>0</td>\n",
       "      <td>0</td>\n",
       "      <td>0</td>\n",
       "      <td>0</td>\n",
       "      <td>0</td>\n",
       "      <td>0</td>\n",
       "      <td>0</td>\n",
       "      <td>0</td>\n",
       "      <td>0</td>\n",
       "      <td>0</td>\n",
       "      <td>0</td>\n",
       "      <td>0</td>\n",
       "      <td>0</td>\n",
       "      <td>0</td>\n",
       "      <td>0</td>\n",
       "      <td>0</td>\n",
       "      <td>0</td>\n",
       "      <td>0</td>\n",
       "      <td>0</td>\n",
       "      <td>0</td>\n",
       "      <td>0</td>\n",
       "      <td>0</td>\n",
       "      <td>0</td>\n",
       "      <td>0</td>\n",
       "      <td>0</td>\n",
       "      <td>0</td>\n",
       "      <td>0</td>\n",
       "      <td>0</td>\n",
       "      <td>0</td>\n",
       "      <td>0</td>\n",
       "      <td>0</td>\n",
       "      <td>0</td>\n",
       "      <td>0</td>\n",
       "      <td>0</td>\n",
       "      <td>0</td>\n",
       "      <td>0</td>\n",
       "      <td>1</td>\n",
       "      <td>0</td>\n",
       "      <td>0</td>\n",
       "      <td>0</td>\n",
       "      <td>0</td>\n",
       "      <td>0</td>\n",
       "      <td>0</td>\n",
       "      <td>0</td>\n",
       "      <td>0</td>\n",
       "      <td>0</td>\n",
       "      <td>0</td>\n",
       "      <td>0</td>\n",
       "      <td>0</td>\n",
       "      <td>0</td>\n",
       "      <td>0</td>\n",
       "      <td>0</td>\n",
       "      <td>0</td>\n",
       "      <td>0</td>\n",
       "      <td>0</td>\n",
       "      <td>0</td>\n",
       "      <td>0</td>\n",
       "      <td>0</td>\n",
       "      <td>0</td>\n",
       "      <td>0</td>\n",
       "      <td>0</td>\n",
       "      <td>0</td>\n",
       "      <td>0</td>\n",
       "      <td>0</td>\n",
       "      <td>0</td>\n",
       "      <td>0</td>\n",
       "      <td>0</td>\n",
       "      <td>0</td>\n",
       "      <td>0</td>\n",
       "    </tr>\n",
       "    <tr>\n",
       "      <th>4</th>\n",
       "      <td>9483</td>\n",
       "      <td>615199</td>\n",
       "      <td>2018</td>\n",
       "      <td>1</td>\n",
       "      <td>0</td>\n",
       "      <td>0</td>\n",
       "      <td>0</td>\n",
       "      <td>0</td>\n",
       "      <td>0</td>\n",
       "      <td>0</td>\n",
       "      <td>0</td>\n",
       "      <td>0</td>\n",
       "      <td>1</td>\n",
       "      <td>0</td>\n",
       "      <td>0</td>\n",
       "      <td>0</td>\n",
       "      <td>1</td>\n",
       "      <td>0</td>\n",
       "      <td>0</td>\n",
       "      <td>0</td>\n",
       "      <td>0</td>\n",
       "      <td>0</td>\n",
       "      <td>0</td>\n",
       "      <td>0</td>\n",
       "      <td>0</td>\n",
       "      <td>0</td>\n",
       "      <td>0</td>\n",
       "      <td>0</td>\n",
       "      <td>0</td>\n",
       "      <td>0</td>\n",
       "      <td>0</td>\n",
       "      <td>0</td>\n",
       "      <td>0</td>\n",
       "      <td>0</td>\n",
       "      <td>0</td>\n",
       "      <td>1</td>\n",
       "      <td>0</td>\n",
       "      <td>0</td>\n",
       "      <td>0</td>\n",
       "      <td>0</td>\n",
       "      <td>0</td>\n",
       "      <td>0</td>\n",
       "      <td>0</td>\n",
       "      <td>0</td>\n",
       "      <td>0</td>\n",
       "      <td>0</td>\n",
       "      <td>0</td>\n",
       "      <td>0</td>\n",
       "      <td>0</td>\n",
       "      <td>1</td>\n",
       "      <td>0</td>\n",
       "      <td>0</td>\n",
       "      <td>0</td>\n",
       "      <td>0</td>\n",
       "      <td>0</td>\n",
       "      <td>0</td>\n",
       "      <td>0</td>\n",
       "      <td>0</td>\n",
       "      <td>0</td>\n",
       "      <td>0</td>\n",
       "      <td>0</td>\n",
       "      <td>0</td>\n",
       "      <td>0</td>\n",
       "      <td>0</td>\n",
       "      <td>0</td>\n",
       "      <td>0</td>\n",
       "      <td>0</td>\n",
       "      <td>1</td>\n",
       "      <td>0</td>\n",
       "      <td>0</td>\n",
       "      <td>0</td>\n",
       "      <td>0</td>\n",
       "      <td>0</td>\n",
       "      <td>0</td>\n",
       "      <td>0</td>\n",
       "      <td>0</td>\n",
       "      <td>0</td>\n",
       "      <td>0</td>\n",
       "      <td>0</td>\n",
       "      <td>0</td>\n",
       "      <td>0</td>\n",
       "      <td>0</td>\n",
       "      <td>0</td>\n",
       "      <td>0</td>\n",
       "      <td>0</td>\n",
       "      <td>0</td>\n",
       "      <td>0</td>\n",
       "      <td>0</td>\n",
       "      <td>0</td>\n",
       "      <td>0</td>\n",
       "      <td>0</td>\n",
       "      <td>0</td>\n",
       "      <td>0</td>\n",
       "      <td>0</td>\n",
       "      <td>0</td>\n",
       "      <td>0</td>\n",
       "      <td>0</td>\n",
       "      <td>0</td>\n",
       "      <td>0</td>\n",
       "      <td>0</td>\n",
       "      <td>0</td>\n",
       "      <td>0</td>\n",
       "      <td>0</td>\n",
       "      <td>0</td>\n",
       "      <td>0</td>\n",
       "      <td>0</td>\n",
       "      <td>0</td>\n",
       "      <td>0</td>\n",
       "      <td>0</td>\n",
       "      <td>0</td>\n",
       "      <td>0</td>\n",
       "      <td>0</td>\n",
       "      <td>0</td>\n",
       "      <td>0</td>\n",
       "      <td>0</td>\n",
       "      <td>0</td>\n",
       "      <td>0</td>\n",
       "      <td>0</td>\n",
       "      <td>0</td>\n",
       "      <td>0</td>\n",
       "      <td>0</td>\n",
       "      <td>0</td>\n",
       "      <td>0</td>\n",
       "      <td>0</td>\n",
       "      <td>0</td>\n",
       "      <td>0</td>\n",
       "      <td>0</td>\n",
       "      <td>0</td>\n",
       "      <td>0</td>\n",
       "      <td>0</td>\n",
       "      <td>0</td>\n",
       "      <td>0</td>\n",
       "      <td>0</td>\n",
       "      <td>0</td>\n",
       "      <td>0</td>\n",
       "      <td>0</td>\n",
       "      <td>0</td>\n",
       "      <td>0</td>\n",
       "      <td>0</td>\n",
       "      <td>0</td>\n",
       "      <td>0</td>\n",
       "      <td>0</td>\n",
       "      <td>0</td>\n",
       "      <td>0</td>\n",
       "      <td>0</td>\n",
       "      <td>0</td>\n",
       "      <td>0</td>\n",
       "      <td>0</td>\n",
       "      <td>0</td>\n",
       "      <td>0</td>\n",
       "      <td>0</td>\n",
       "      <td>0</td>\n",
       "      <td>0</td>\n",
       "      <td>0</td>\n",
       "      <td>0</td>\n",
       "    </tr>\n",
       "  </tbody>\n",
       "</table>\n",
       "</div>"
      ],
      "text/plain": [
       "   Mileage   Price  Year  Manual  1.5-2.0 Liter  2.0+ Liter  Basic Diesel  \\\n",
       "0    80605  401599  2015       1              0           0             0   \n",
       "1    82877  281899  2013       1              0           0             0   \n",
       "2    46758  478599  2017       1              0           0             0   \n",
       "3   138467  610599  2017       0              0           0             0   \n",
       "4     9483  615199  2018       1              0           0             0   \n",
       "\n",
       "   Basic Petrol  Middle Petrol  Other  Top Diesel  Top Petrol  2nd Owner  \\\n",
       "0             0              0      1           0           0          0   \n",
       "1             0              0      0           0           0          0   \n",
       "2             0              1      0           0           0          0   \n",
       "3             0              0      1           0           0          0   \n",
       "4             0              0      0           0           0          1   \n",
       "\n",
       "   3rd Owner  4th Owner  5th Owner  Petrol  Petrol + CNG  Petrol + LPG  \\\n",
       "0          0          0          0       0             0             0   \n",
       "1          1          0          0       0             0             0   \n",
       "2          0          0          0       1             0             0   \n",
       "3          0          0          0       0             0             0   \n",
       "4          0          0          0       1             0             0   \n",
       "\n",
       "   Bengaluru  Bhopal  Chandigarh  Chennai  Delhi  Hyderabad  Jaipur  Kolkata  \\\n",
       "0          0       0           0        0      0          0       0        0   \n",
       "1          0       0           0        0      0          0       0        0   \n",
       "2          0       0           0        0      0          0       0        0   \n",
       "3          0       0           0        0      0          0       0        0   \n",
       "4          0       0           0        0      0          0       0        0   \n",
       "\n",
       "   Ludhiana  Meerut  Mumbai  Mysore  Nasik  Panipat  Pune  Rajkot  Rohtak  \\\n",
       "0         0       0       0       0      0        0     0       0       1   \n",
       "1         0       0       0       0      0        0     0       0       1   \n",
       "2         0       0       0       0      0        0     0       0       1   \n",
       "3         0       0       0       0      0        0     0       0       1   \n",
       "4         0       0       0       0      0        0     0       0       1   \n",
       "\n",
       "   Surat  BMW  Chevrolet  Datsun  Fiat  Ford  HYUNDAI  Honda  Hyundai  Jeep  \\\n",
       "0      0    0          0       0     0     0        0      0        0     0   \n",
       "1      0    0          0       0     0     0        0      1        0     0   \n",
       "2      0    0          0       0     0     0        0      0        0     0   \n",
       "3      0    0          0       0     0     0        0      0        0     0   \n",
       "4      0    0          0       0     0     0        0      0        0     0   \n",
       "\n",
       "   KIA  MG  Mahindra  Maruti  Mercedes  Nissan  RENAULT  Renault  Skoda  \\\n",
       "0    0   0         0       0         0       0        0        0      0   \n",
       "1    0   0         0       0         0       0        0        0      0   \n",
       "2    0   0         0       1         0       0        0        0      0   \n",
       "3    0   0         0       0         0       0        0        0      1   \n",
       "4    0   0         0       1         0       0        0        0      0   \n",
       "\n",
       "   Ssangyong  Tata  Toyota  Volkswagen  5  A3  ALTROZ  AURA  Alto  Amaze  \\\n",
       "0          0     0       1           0  0   0       0     0     0      0   \n",
       "1          0     0       0           0  0   0       0     0     0      1   \n",
       "2          0     0       0           0  0   0       0     0     0      0   \n",
       "3          0     0       0           0  0   0       0     0     0      0   \n",
       "4          0     0       0           0  0   0       0     0     0      0   \n",
       "\n",
       "   Ameo  BR-V  Baleno  Beat  Benz  Bolero  Brio  CRV  Camry  Captur  Celerio  \\\n",
       "0     0     0       0     0     0       0     0    0      0       0        0   \n",
       "1     0     0       0     0     0       0     0    0      0       0        0   \n",
       "2     0     0       0     0     0       0     0    0      0       0        0   \n",
       "3     0     0       0     0     0       0     0    0      0       0        0   \n",
       "4     0     0       1     0     0       0     0    0      0       0        0   \n",
       "\n",
       "   Ciaz  City  Civic  Compass  Corolla  Creta  Duster  Dzire  Ecosport  Eeco  \\\n",
       "0     0     0      0        0        0      0       0      0         0     0   \n",
       "1     0     0      0        0        0      0       0      0         0     0   \n",
       "2     0     0      0        0        0      0       0      0         0     0   \n",
       "3     0     0      0        0        0      0       0      0         0     0   \n",
       "4     0     0      0        0        0      0       0      0         0     0   \n",
       "\n",
       "   Elite  Endeavour  Eon  Ertiga  Etios  FREESTYLE  Figo  Fortuner  GRAND  \\\n",
       "0      0          0    0       0      1          0     0         0      0   \n",
       "1      0          0    0       0      0          0     0         0      0   \n",
       "2      0          0    0       0      0          0     0         0      0   \n",
       "3      0          0    0       0      0          0     0         0      0   \n",
       "4      0          0    0       0      0          0     0         0      0   \n",
       "\n",
       "   Glanza  Go  Grand  HECTOR  Harrier  Hexa  IGNIS  Indica  Innova  Jazz  \\\n",
       "0       0   0      0       0        0     0      0       0       0     0   \n",
       "1       0   0      0       0        0     0      0       0       0     0   \n",
       "2       0   0      0       0        0     0      0       0       0     0   \n",
       "3       0   0      0       0        0     0      0       0       0     0   \n",
       "4       0   0      0       0        0     0      0       0       0     0   \n",
       "\n",
       "   Jetta  KAROQ  KUV  Kiger  Kuv100  Kwid  Linea  Lodgy  Micra  Mobilio  NEW  \\\n",
       "0      0      0    0      0       0     0      0      0      0        0    0   \n",
       "1      0      0    0      0       0     0      0      0      0        0    0   \n",
       "2      0      0    0      0       0     0      0      0      0        0    0   \n",
       "3      0      0    0      0       0     0      0      0      0        0    0   \n",
       "4      0      0    0      0       0     0      0      0      0        0    0   \n",
       "\n",
       "   NEXON  Nano  New  OMNI  Octavia  Polo  Rapid  Redi  Rexton  Ritz  S  \\\n",
       "0      0     0    0     0        0     0      0     0       0     0  0   \n",
       "1      0     0    0     0        0     0      0     0       0     0  0   \n",
       "2      0     0    0     0        0     0      0     0       0     0  0   \n",
       "3      0     0    0     0        0     0      1     0       0     0  0   \n",
       "4      0     0    0     0        0     0      0     0       0     0  0   \n",
       "\n",
       "   SELTOS  Santro  Scorpio  Sunny  Superb  Swift  TIGOR  TRIBER  TUV300  \\\n",
       "0       0       0        0      0       0      0      0       0       0   \n",
       "1       0       0        0      0       0      0      0       0       0   \n",
       "2       0       0        0      0       0      1      0       0       0   \n",
       "3       0       0        0      0       0      0      0       0       0   \n",
       "4       0       0        0      0       0      0      0       0       0   \n",
       "\n",
       "   Terrano  Thar  Tiago  Tucson  VENUE  Vento  Verna  Vitara  WR-V  Wagon  X1  \\\n",
       "0        0     0      0       0      0      0      0       0     0      0   0   \n",
       "1        0     0      0       0      0      0      0       0     0      0   0   \n",
       "2        0     0      0       0      0      0      0       0     0      0   0   \n",
       "3        0     0      0       0      0      0      0       0     0      0   0   \n",
       "4        0     0      0       0      0      0      0       0     0      0   0   \n",
       "\n",
       "   XL6  XUV  XUV500  Xcent  YARIS  Zen  i10  i20  \n",
       "0    0    0       0      0      0    0    0    0  \n",
       "1    0    0       0      0      0    0    0    0  \n",
       "2    0    0       0      0      0    0    0    0  \n",
       "3    0    0       0      0      0    0    0    0  \n",
       "4    0    0       0      0      0    0    0    0  "
      ]
     },
     "execution_count": 66,
     "metadata": {},
     "output_type": "execute_result"
    }
   ],
   "source": [
    "df.head()"
   ]
  },
  {
   "cell_type": "code",
   "execution_count": 67,
   "metadata": {},
   "outputs": [
    {
     "name": "stdout",
     "output_type": "stream",
     "text": [
      "X Train Shape  (3200, 154)\n",
      "Y Train Shape  (3200,)\n",
      "X Test Shape  (800, 154)\n",
      "Y Test Shape  (800,)\n"
     ]
    }
   ],
   "source": [
    "X=df.drop(['Price'], axis = 1, inplace = False) # Training variables\n",
    "y=df['Price'] # Testing variables\n",
    "\n",
    "X_train, X_test, y_train, y_test = train_test_split(X, y, test_size=0.20, random_state=1)\n",
    "\n",
    "print(\"X Train Shape \",X_train.shape)\n",
    "print(\"Y Train Shape \",y_train.shape)\n",
    "\n",
    "print(\"X Test Shape \",X_test.shape)\n",
    "print(\"Y Test Shape \",y_test.shape)"
   ]
  },
  {
   "cell_type": "markdown",
   "metadata": {},
   "source": [
    "### Decision tree regressor"
   ]
  },
  {
   "cell_type": "code",
   "execution_count": 68,
   "metadata": {},
   "outputs": [
    {
     "data": {
      "text/plain": [
       "-0.47752489959821665"
      ]
     },
     "execution_count": 68,
     "metadata": {},
     "output_type": "execute_result"
    }
   ],
   "source": [
    "dtr = DecisionTreeRegressor(random_state=5)\n",
    "dtr.fit(X_train, y_train)\n",
    "y_pred_dt = dtr.predict(X_test)\n",
    "dtr.score(X_test, y_test)"
   ]
  },
  {
   "cell_type": "code",
   "execution_count": 69,
   "metadata": {},
   "outputs": [
    {
     "name": "stdout",
     "output_type": "stream",
     "text": [
      "-0.7243264760192942\n"
     ]
    }
   ],
   "source": [
    "scr = cross_val_score(dtr, X,y, cv=4)\n",
    "print(scr.mean())"
   ]
  },
  {
   "cell_type": "code",
   "execution_count": 70,
   "metadata": {},
   "outputs": [
    {
     "name": "stdout",
     "output_type": "stream",
     "text": [
      "Mean absolute error = 229029.14\n",
      "Mean squared error = 126130807348.15\n",
      "Median absolute error = 148250.0\n",
      "Explain variance score = -0.47\n",
      "R2 score = -0.48\n"
     ]
    }
   ],
   "source": [
    "print(\"Mean absolute error =\", round(sm.mean_absolute_error(y_test, y_pred_dt), 2)) \n",
    "print(\"Mean squared error =\", round(sm.mean_squared_error(y_test, y_pred_dt), 2)) \n",
    "print(\"Median absolute error =\", round(sm.median_absolute_error(y_test, y_pred_dt), 2)) \n",
    "print(\"Explain variance score =\", round(sm.explained_variance_score(y_test, y_pred_dt), 2)) \n",
    "print(\"R2 score =\", round(sm.r2_score(y_test, y_pred_dt), 2))"
   ]
  },
  {
   "cell_type": "markdown",
   "metadata": {},
   "source": [
    "### Random forest regression"
   ]
  },
  {
   "cell_type": "code",
   "execution_count": 71,
   "metadata": {},
   "outputs": [
    {
     "data": {
      "text/plain": [
       "0.022271098377668275"
      ]
     },
     "execution_count": 71,
     "metadata": {},
     "output_type": "execute_result"
    }
   ],
   "source": [
    "rfr = RandomForestRegressor(random_state=1)\n",
    "rfr.fit(X_train, y_train)\n",
    "y_pred_rfr = rfr.predict(X_test)\n",
    "rfr.score(X_test, y_test)"
   ]
  },
  {
   "cell_type": "code",
   "execution_count": 72,
   "metadata": {},
   "outputs": [
    {
     "name": "stdout",
     "output_type": "stream",
     "text": [
      "-0.09671987803668716\n"
     ]
    }
   ],
   "source": [
    "scr = cross_val_score(rfr, X,y, cv=4)\n",
    "print(scr.mean())"
   ]
  },
  {
   "cell_type": "code",
   "execution_count": 73,
   "metadata": {},
   "outputs": [
    {
     "name": "stdout",
     "output_type": "stream",
     "text": [
      "Mean absolute error = 187823.23\n",
      "Mean squared error = 83465081206.27\n",
      "Median absolute error = 121359.5\n",
      "Explain variance score = 0.02\n",
      "R2 score = 0.02\n"
     ]
    }
   ],
   "source": [
    "print(\"Mean absolute error =\", round(sm.mean_absolute_error(y_test, y_pred_rfr), 2)) \n",
    "print(\"Mean squared error =\", round(sm.mean_squared_error(y_test, y_pred_rfr), 2)) \n",
    "print(\"Median absolute error =\", round(sm.median_absolute_error(y_test, y_pred_rfr), 2)) \n",
    "print(\"Explain variance score =\", round(sm.explained_variance_score(y_test, y_pred_rfr), 2)) \n",
    "print(\"R2 score =\", round(sm.r2_score(y_test, y_pred_rfr), 2))"
   ]
  },
  {
   "cell_type": "code",
   "execution_count": 74,
   "metadata": {},
   "outputs": [
    {
     "data": {
      "image/png": "[encoded data removed]",
      "text/plain": [
       "<Figure size 576x576 with 1 Axes>"
      ]
     },
     "metadata": {
      "needs_background": "light"
     },
     "output_type": "display_data"
    }
   ],
   "source": [
    "plt.figure(figsize=(8,8))\n",
    "plt.scatter(y_test,y_pred_rfr)\n",
    "plt.xlabel(\"Actual value of car\")\n",
    "plt.ylabel(\"Predicted value of car\")\n",
    "plt.ticklabel_format(style='plain', axis='y')\n",
    "plt.ticklabel_format(style='plain', axis='x')"
   ]
  },
  {
   "cell_type": "code",
   "execution_count": 75,
   "metadata": {},
   "outputs": [
    {
     "data": {
      "text/plain": [
       "<AxesSubplot:xlabel='Price', ylabel='Density'>"
      ]
     },
     "execution_count": 75,
     "metadata": {},
     "output_type": "execute_result"
    },
    {
     "data": {
      "image/png": "[encoded data removed]",
      "text/plain": [
       "<Figure size 576x576 with 1 Axes>"
      ]
     },
     "metadata": {
      "needs_background": "light"
     },
     "output_type": "display_data"
    }
   ],
   "source": [
    "plt.figure(figsize=(8,8))\n",
    "sns.distplot(y_test-y_pred_rfr)"
   ]
  },
  {
   "cell_type": "markdown",
   "metadata": {},
   "source": [
    "## Taking log of Price, Mileage and min-max of year data "
   ]
  },
  {
   "cell_type": "code",
   "execution_count": 76,
   "metadata": {},
   "outputs": [],
   "source": [
    "df['Price'] = np.log(df['Price'])\n",
    "df['Mileage'] = np.log(df['Mileage'])\n",
    "df['Year']=(df['Year']-df['Year'].min())/(df['Year'].max()-df['Year'].min())"
   ]
  },
  {
   "cell_type": "code",
   "execution_count": 77,
   "metadata": {},
   "outputs": [
    {
     "name": "stdout",
     "output_type": "stream",
     "text": [
      "X Train Shape  (3200, 154)\n",
      "Y Train Shape  (3200,)\n",
      "X Test Shape  (800, 154)\n",
      "Y Test Shape  (800,)\n"
     ]
    }
   ],
   "source": [
    "X=df.drop(['Price'], axis = 1, inplace = False)\n",
    "y=df['Price']\n",
    "\n",
    "X_train, X_test, y_train, y_test = train_test_split(X, y, test_size=0.20, random_state=1)\n",
    "\n",
    "print(\"X Train Shape \",X_train.shape)\n",
    "print(\"Y Train Shape \",y_train.shape)\n",
    "\n",
    "print(\"X Test Shape \",X_test.shape)\n",
    "print(\"Y Test Shape \",y_test.shape)"
   ]
  },
  {
   "cell_type": "markdown",
   "metadata": {},
   "source": [
    "### Random forest regression "
   ]
  },
  {
   "cell_type": "code",
   "execution_count": 78,
   "metadata": {},
   "outputs": [
    {
     "data": {
      "text/plain": [
       "0.05886275261424612"
      ]
     },
     "execution_count": 78,
     "metadata": {},
     "output_type": "execute_result"
    }
   ],
   "source": [
    "rfr = RandomForestRegressor(random_state=1)\n",
    "rfr.fit(X_train, y_train)\n",
    "y_pred_rfr = rfr.predict(X_test)\n",
    "rfr.score(X_test, y_test)"
   ]
  },
  {
   "cell_type": "code",
   "execution_count": 79,
   "metadata": {},
   "outputs": [
    {
     "name": "stdout",
     "output_type": "stream",
     "text": [
      "-0.12441105027298469\n"
     ]
    }
   ],
   "source": [
    "scr = cross_val_score(rfr, X,y, cv=4)\n",
    "print(scr.mean())"
   ]
  },
  {
   "cell_type": "markdown",
   "metadata": {},
   "source": [
    "### Decision tree regressor "
   ]
  },
  {
   "cell_type": "code",
   "execution_count": 80,
   "metadata": {},
   "outputs": [
    {
     "data": {
      "text/plain": [
       "-0.6770098718114756"
      ]
     },
     "execution_count": 80,
     "metadata": {},
     "output_type": "execute_result"
    }
   ],
   "source": [
    "from sklearn.tree import DecisionTreeRegressor\n",
    "dtr = DecisionTreeRegressor(random_state=5)\n",
    "dtr.fit(X_train, y_train)\n",
    "y_pred_dt = dtr.predict(X_test)\n",
    "dtr.score(X_test, y_test)"
   ]
  },
  {
   "cell_type": "code",
   "execution_count": 81,
   "metadata": {},
   "outputs": [
    {
     "name": "stdout",
     "output_type": "stream",
     "text": [
      "-0.9419141063226735\n"
     ]
    }
   ],
   "source": [
    "scr = cross_val_score(dtr, X,y, cv=4)\n",
    "print(scr.mean())"
   ]
  },
  {
   "cell_type": "code",
   "execution_count": 82,
   "metadata": {},
   "outputs": [
    {
     "data": {
      "image/png": "[encoded data removed]",
      "text/plain": [
       "<Figure size 576x576 with 1 Axes>"
      ]
     },
     "metadata": {
      "needs_background": "light"
     },
     "output_type": "display_data"
    }
   ],
   "source": [
    "plt.figure(figsize=(8,8)) # Scatter plot of predicted vs actual values\n",
    "plt.scatter(e**(y_test),e**(y_pred_rfr))\n",
    "plt.xlabel(\"Actual value of car\")\n",
    "plt.ylabel(\"Predicted value of car\")\n",
    "plt.ticklabel_format(style='plain', axis='y')\n",
    "plt.ticklabel_format(style='plain', axis='x')"
   ]
  },
  {
   "cell_type": "code",
   "execution_count": 83,
   "metadata": {},
   "outputs": [
    {
     "data": {
      "text/plain": [
       "<AxesSubplot:xlabel='Price', ylabel='Density'>"
      ]
     },
     "execution_count": 83,
     "metadata": {},
     "output_type": "execute_result"
    },
    {
     "data": {
      "image/png": "[encoded data removed]",
      "text/plain": [
       "<Figure size 576x576 with 1 Axes>"
      ]
     },
     "metadata": {
      "needs_background": "light"
     },
     "output_type": "display_data"
    }
   ],
   "source": [
    "plt.figure(figsize=(8,8))\n",
    "sns.distplot(e**y_test-e**y_pred_rfr) # As I took log before, re-converting the values to real prices"
   ]
  },
  {
   "cell_type": "markdown",
   "metadata": {},
   "source": [
    "### Support vector regression"
   ]
  },
  {
   "cell_type": "code",
   "execution_count": 84,
   "metadata": {},
   "outputs": [
    {
     "data": {
      "text/plain": [
       "0.062372455247162284"
      ]
     },
     "execution_count": 84,
     "metadata": {},
     "output_type": "execute_result"
    }
   ],
   "source": [
    "svr = SVR().fit(X_train, y_train)\n",
    "y_pred_svr = svr.predict(X_test)\n",
    "svr.score(X_test, y_test)"
   ]
  },
  {
   "cell_type": "code",
   "execution_count": 85,
   "metadata": {},
   "outputs": [
    {
     "name": "stdout",
     "output_type": "stream",
     "text": [
      "-0.09713647321840098\n"
     ]
    }
   ],
   "source": [
    "scr = cross_val_score(svr, X,y, cv=5)\n",
    "print(scr.mean())"
   ]
  },
  {
   "cell_type": "markdown",
   "metadata": {},
   "source": [
    "### Hyper paramter tuning"
   ]
  },
  {
   "cell_type": "markdown",
   "metadata": {},
   "source": [
    "I will be performing hyper parameter tuning on the random forest regressor model, as it gave the best performance."
   ]
  },
  {
   "cell_type": "code",
   "execution_count": 86,
   "metadata": {},
   "outputs": [],
   "source": [
    "from sklearn.model_selection import GridSearchCV"
   ]
  },
  {
   "cell_type": "code",
   "execution_count": 87,
   "metadata": {},
   "outputs": [],
   "source": [
    "parameters = { 'n_estimators' : [100,150],\n",
    "               'min_samples_leaf' : [1,2], \n",
    "              'min_samples_split': [2,3],\n",
    "              'criterion': ['mse','mae']\n",
    "}"
   ]
  },
  {
   "cell_type": "code",
   "execution_count": 88,
   "metadata": {},
   "outputs": [],
   "source": [
    "GCV = GridSearchCV(RandomForestRegressor(),parameters,cv=5)"
   ]
  },
  {
   "cell_type": "code",
   "execution_count": null,
   "metadata": {},
   "outputs": [],
   "source": [
    "GCV.fit(X_train,y_train)"
   ]
  },
  {
   "cell_type": "code",
   "execution_count": null,
   "metadata": {},
   "outputs": [],
   "source": [
    "GCV.best_params_"
   ]
  },
  {
   "cell_type": "markdown",
   "metadata": {},
   "source": [
    "Training model according to the best parameters"
   ]
  },
  {
   "cell_type": "code",
   "execution_count": null,
   "metadata": {},
   "outputs": [],
   "source": [
    "mod = RandomForestRegressor(min_samples_leaf= 1, min_samples_split =2, n_estimators = 150, criterion='mse')\n",
    "mod.fit(X_train,y_train)\n",
    "pred = mod.predict(X_test)\n",
    "mod.score(X_test,y_test)"
   ]
  },
  {
   "cell_type": "code",
   "execution_count": null,
   "metadata": {},
   "outputs": [],
   "source": [
    "scr = cross_val_score(mod, X,y, cv=4)\n",
    "print(scr.mean())"
   ]
  },
  {
   "cell_type": "markdown",
   "metadata": {},
   "source": [
    "As we can observe hyper parameter tuning improved the r^2 score to 0.943 which is good."
   ]
  },
  {
   "cell_type": "code",
   "execution_count": null,
   "metadata": {},
   "outputs": [],
   "source": [
    "plt.figure(figsize=(8,8))\n",
    "plt.scatter(e**y_test,e**pred)\n",
    "plt.xlabel(\"Actual value of car\")\n",
    "plt.ylabel(\"Predicted value of car\")\n",
    "plt.ticklabel_format(style='plain', axis='y')\n",
    "plt.ticklabel_format(style='plain', axis='x')"
   ]
  },
  {
   "cell_type": "markdown",
   "metadata": {},
   "source": [
    "Scatter plot of predicted vs actual values, we can se ethat there are some outliers, but most of the values lie in a stright line at 45deg which is optimal. \n",
    "\n",
    "We also got a much tighter fir near 0 deviation which means our model is performing well."
   ]
  },
  {
   "cell_type": "code",
   "execution_count": null,
   "metadata": {},
   "outputs": [],
   "source": [
    "plt.figure(figsize=(8,8))\n",
    "sns.distplot(e**y_test-e**pred) # As I took log before, re-converting the values to real prices"
   ]
  },
  {
   "cell_type": "markdown",
   "metadata": {},
   "source": [
    "#### Checking the Concordance index"
   ]
  },
  {
   "cell_type": "code",
   "execution_count": null,
   "metadata": {},
   "outputs": [],
   "source": [
    "from lifelines.utils import concordance_index\n",
    "print(f'Concordance index: {concordance_index(y_test, pred)}')"
   ]
  },
  {
   "cell_type": "markdown",
   "metadata": {},
   "source": [
    "We got Concordance index: 0.9487433647587257, which is a very good value. and it mease that the model is performing great."
   ]
  },
  {
   "cell_type": "markdown",
   "metadata": {},
   "source": [
    "### Saving the model"
   ]
  },
  {
   "cell_type": "code",
   "execution_count": null,
   "metadata": {},
   "outputs": [],
   "source": [
    "import joblib\n",
    "joblib.dump(mod,\"CarPricePred.pkl\")"
   ]
  }
 ],
 "metadata": {
  "kernelspec": {
   "display_name": "Python 3",
   "language": "python",
   "name": "python3"
  },
  "language_info": {
   "codemirror_mode": {
    "name": "ipython",
    "version": 3
   },
   "file_extension": ".py",
   "mimetype": "text/x-python",
   "name": "python",
   "nbconvert_exporter": "python",
   "pygments_lexer": "ipython3",
   "version": "3.8.5"
  }
 },
 "nbformat": 4,
 "nbformat_minor": 4
}
